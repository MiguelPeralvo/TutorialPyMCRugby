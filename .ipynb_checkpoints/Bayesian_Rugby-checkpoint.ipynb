{
 "cells": [
  {
   "cell_type": "markdown",
   "metadata": {
    "slideshow": {
     "slide_type": "slide"
    }
   },
   "source": [
    "#Rugby Analytics\n",
    "* Peadar Coyle \n",
    "<img src='pydatalogo-generic.png'>\n"
   ]
  },
  {
   "cell_type": "markdown",
   "metadata": {
    "slideshow": {
     "slide_type": "slide"
    }
   },
   "source": [
    "##Who am I?\n",
    "* I'm a Data Analytics Professional based in Luxembourg\n",
    "* I currently work for Vodafone\n",
    "* My intellectual background is in Physics and Mathematics\n",
    "* I worked at Amazon in Supply Chain Analytics\n",
    "* I interned at http://import.io - where I got introduced to Data Science\n",
    "* I've made open source contributions to Pandas and Probabilistic Programming and Bayesian Methods for Hackers. \n",
    "* All opinions are my own!\n"
   ]
  },
  {
   "cell_type": "markdown",
   "metadata": {},
   "source": [
    "<p>\n",
    "\n",
    "<table style=\"border-collapse: collapse; border-top-color: rgb(255, 255, 255); border-right-color: rgb(255, 255, 255); border-bottom-color: rgb(255, 255, 255); border-left-color: rgb(255, 255, 255); border-top-width: 1px; border-right-width: 1px; border-bottom-width: 1px; border-left-width: 1px; \" border=\"0\" bordercolor=\"#888\" cellspacing=\"0\" align=\"left\">\n",
    "  <tr>\n",
    "    <td>\n",
    "<a href=\"mailto: peadarcoyle@gmail.com\"><svg width=\"40px\" height=\"40px\" viewBox=\"0 0 60 60\" version=\"1.1\" xmlns=\"http://www.w3.org/2000/svg\" xmlns:xlink=\"http://www.w3.org/1999/xlink\" xmlns:sketch=\"http://www.bohemiancoding.com/sketch/ns\">\n",
    "    <path d=\"M0.224580688,30 C0.224580688,13.4314567 13.454941,0 29.7754193,0 C46.0958976,0 59.3262579,13.4314567 59.3262579,30 C59.3262579,46.5685433 46.0958976,60 29.7754193,60 C13.454941,60 0.224580688,46.5685433 0.224580688,30 Z M0.224580688,30\" fill=\"#FFFFFF\" sketch:type=\"MSShapeGroup\"></path>\n",
    "    <path d=\"M35.0384324,31.6384006 L47.2131148,40.5764264 L47.2131148,20 L35.0384324,31.6384006 Z M13.7704918,20 L13.7704918,40.5764264 L25.9449129,31.6371491 L13.7704918,20 Z M30.4918033,35.9844891 L27.5851037,33.2065217 L13.7704918,42 L47.2131148,42 L33.3981762,33.2065217 L30.4918033,35.9844891 Z M46.2098361,20 L14.7737705,20 L30.4918033,32.4549304 L46.2098361,20 Z M46.2098361,20\" id=\"Shape\" fill=\"#333333\" sketch:type=\"MSShapeGroup\"></path>\n",
    "    <path d=\"M59.3262579,30 C59.3262579,46.5685433 46.0958976,60 29.7754193,60 C23.7225405,60 18.0947051,58.1525134 13.4093244,54.9827754 L47.2695458,5.81941103 C54.5814438,11.2806503 59.3262579,20.0777973 59.3262579,30 Z M59.3262579,30\" id=\"reflec\" fill-opacity=\"0.08\" fill=\"#000000\" sketch:type=\"MSShapeGroup\"></path>\n",
    "</svg></a> \n",
    "</td> \n",
    "<td>\n",
    "<a href=\"mailto: peadarcoyle@gmail.com\" target=\"_blank\">peadarcoyle@gmail.com</a>  \n",
    "</td> </tr><tr> <td>\n",
    "                 \n",
    "<a href=\"http://github.com/springcoil\"><svg width=\"40px\" height=\"40px\" viewBox=\"0 0 60 60\" version=\"1.1\" xmlns=\"http://www.w3.org/2000/svg\" xmlns:xlink=\"http://www.w3.org/1999/xlink\" xmlns:sketch=\"http://www.bohemiancoding.com/sketch/ns\">\n",
    "    <path d=\"M0.336871032,30 C0.336871032,13.4314567 13.5672313,0 29.8877097,0 C46.208188,0 59.4385483,13.4314567 59.4385483,30 C59.4385483,46.5685433 46.208188,60 29.8877097,60 C13.5672313,60 0.336871032,46.5685433 0.336871032,30 Z M0.336871032,30\" id=\"Github\" fill=\"#333333\" sketch:type=\"MSShapeGroup\"></path>\n",
    "    <path d=\"M18.2184245,31.9355566 C19.6068506,34.4507902 22.2845295,36.0156764 26.8007287,36.4485173 C26.1561023,36.9365335 25.3817877,37.8630984 25.2749857,38.9342607 C24.4644348,39.4574749 22.8347506,39.62966 21.5674303,39.2310659 C19.7918469,38.6717023 19.1119377,35.1642642 16.4533306,35.6636959 C15.8773626,35.772144 15.9917933,36.1507609 16.489567,36.4722998 C17.3001179,36.9955141 18.0629894,37.6500075 18.6513541,39.04366 C19.1033554,40.113871 20.0531304,42.0259813 23.0569369,42.0259813 C24.2489236,42.0259813 25.0842679,41.8832865 25.0842679,41.8832865 C25.0842679,41.8832865 25.107154,44.6144649 25.107154,45.6761142 C25.107154,46.9004355 23.4507693,47.2457569 23.4507693,47.8346108 C23.4507693,48.067679 23.9990832,48.0895588 24.4396415,48.0895588 C25.3102685,48.0895588 27.1220883,47.3646693 27.1220883,46.0918317 C27.1220883,45.0806012 27.1382993,41.6806599 27.1382993,41.0860982 C27.1382993,39.785673 27.8372803,39.3737607 27.8372803,39.3737607 C27.8372803,39.3737607 27.924057,46.3153869 27.6704022,47.2457569 C27.3728823,48.3397504 26.8360115,48.1846887 26.8360115,48.6727049 C26.8360115,49.3985458 29.0168704,48.8505978 29.7396911,47.2571725 C30.2984945,46.0166791 30.0543756,39.2072834 30.0543756,39.2072834 L30.650369,39.1949165 C30.650369,39.1949165 30.6837446,42.3123222 30.6637192,43.7373675 C30.6427402,45.2128317 30.5426134,47.0792797 31.4208692,47.9592309 C31.9977907,48.5376205 33.868733,49.5526562 33.868733,48.62514 C33.868733,48.0857536 32.8436245,47.6424485 32.8436245,46.1831564 L32.8436245,39.4688905 C33.6618042,39.4688905 33.5387911,41.6768547 33.5387911,41.6768547 L33.5988673,45.7788544 C33.5988673,45.7788544 33.4186389,47.2733446 35.2190156,47.8992991 C35.8541061,48.1209517 37.2139245,48.1808835 37.277815,47.8089257 C37.3417055,47.4360167 35.6405021,46.8814096 35.6252446,45.7236791 C35.6157088,45.0178155 35.6567131,44.6059032 35.6567131,41.5379651 C35.6567131,38.470027 35.2438089,37.336079 33.8048426,36.4323453 C38.2457082,35.9766732 40.9939527,34.880682 42.3337458,31.9450695 C42.4383619,31.9484966 42.8791491,30.5737742 42.8219835,30.5742482 C43.1223642,29.4659853 43.2844744,28.1550957 43.3168964,26.6025764 C43.3092677,22.3930799 41.2895654,20.9042975 40.9014546,20.205093 C41.4736082,17.0182425 40.8060956,15.5675121 40.4961791,15.0699829 C39.3518719,14.6637784 36.5149435,16.1145088 34.9653608,17.1371548 C32.438349,16.3998984 27.0982486,16.4712458 25.0957109,17.3274146 C21.4005522,14.6875608 19.445694,15.0918628 19.445694,15.0918628 C19.445694,15.0918628 18.1821881,17.351197 19.1119377,20.6569598 C17.8961113,22.2028201 16.9902014,23.2968136 16.9902014,26.1963718 C16.9902014,27.8297516 17.1828264,29.2918976 17.6176632,30.5685404 C17.5643577,30.5684093 18.2008493,31.9359777 18.2184245,31.9355566 Z M18.2184245,31.9355566\" id=\"Path\" fill=\"#FFFFFF\" sketch:type=\"MSShapeGroup\"></path>\n",
    "    <path d=\"M59.4385483,30 C59.4385483,46.5685433 46.208188,60 29.8877097,60 C23.8348308,60 18.2069954,58.1525134 13.5216148,54.9827754 L47.3818361,5.81941103 C54.6937341,11.2806503 59.4385483,20.0777973 59.4385483,30 Z M59.4385483,30\" id=\"reflec\" fill-opacity=\"0.08\" fill=\"#000000\" sketch:type=\"MSShapeGroup\"></path>\n",
    "</svg></a>\n",
    "\n",
    "</td><td>\n",
    "<a href=\"http://github.com/springcoil\" target=\"_blank\">http://github.com/springcoil</a>  \n",
    "\n",
    "</td> </tr><tr> <td>\n",
    "\n",
    "<a href=\"https://www.linkedin.com/in/peadarcoyle\"><svg width=\"40px\" height=\"40px\" viewBox=\"0 0 60 60\" version=\"1.1\" xmlns=\"http://www.w3.org/2000/svg\" xmlns:xlink=\"http://www.w3.org/1999/xlink\" xmlns:sketch=\"http://www.bohemiancoding.com/sketch/ns\">\n",
    "    <path d=\"M0.449161376,30 C0.449161376,13.4314567 13.6795217,0 30,0 C46.3204783,0 59.5508386,13.4314567 59.5508386,30 C59.5508386,46.5685433 46.3204783,60 30,60 C13.6795217,60 0.449161376,46.5685433 0.449161376,30 Z M0.449161376,30\" fill=\"#007BB6\" sketch:type=\"MSShapeGroup\"></path>\n",
    "    <path d=\"M22.4680392,23.7098144 L15.7808366,23.7098144 L15.7808366,44.1369537 L22.4680392,44.1369537 L22.4680392,23.7098144 Z M22.4680392,23.7098144\" id=\"Path\" fill=\"#FFFFFF\" sketch:type=\"MSShapeGroup\"></path>\n",
    "    <path d=\"M22.9084753,17.3908761 C22.8650727,15.3880081 21.4562917,13.862504 19.1686418,13.862504 C16.8809918,13.862504 15.3854057,15.3880081 15.3854057,17.3908761 C15.3854057,19.3522579 16.836788,20.9216886 19.0818366,20.9216886 L19.1245714,20.9216886 C21.4562917,20.9216886 22.9084753,19.3522579 22.9084753,17.3908761 Z M22.9084753,17.3908761\" id=\"Path\" fill=\"#FFFFFF\" sketch:type=\"MSShapeGroup\"></path>\n",
    "    <path d=\"M46.5846502,32.4246563 C46.5846502,26.1503226 43.2856534,23.2301456 38.8851658,23.2301456 C35.3347011,23.2301456 33.7450983,25.2128128 32.8575489,26.6036896 L32.8575489,23.7103567 L26.1695449,23.7103567 C26.2576856,25.6271338 26.1695449,44.137496 26.1695449,44.137496 L32.8575489,44.137496 L32.8575489,32.7292961 C32.8575489,32.1187963 32.9009514,31.5097877 33.0777669,31.0726898 C33.5610713,29.8530458 34.6614937,28.5902885 36.5089747,28.5902885 C38.9297703,28.5902885 39.8974476,30.4634101 39.8974476,33.2084226 L39.8974476,44.1369537 L46.5843832,44.1369537 L46.5846502,32.4246563 Z M46.5846502,32.4246563\" id=\"Path\" fill=\"#FFFFFF\" sketch:type=\"MSShapeGroup\"></path>\n",
    "    <path d=\"M59.5508386,30 C59.5508386,46.5685433 46.3204783,60 30,60 C23.9471212,60 18.3192858,58.1525134 13.6339051,54.9827754 L47.4941264,5.81941103 C54.8060245,11.2806503 59.5508386,20.0777973 59.5508386,30 Z M59.5508386,30\" id=\"reflec\" fill-opacity=\"0.08\" fill=\"#000000\" sketch:type=\"MSShapeGroup\"></path>\n",
    "</svg></a> \n",
    "</td> <td>\n",
    "<a href=\"https://www.linkedin.com/in/peadarcoyle\" target=\"_blank\">https://www.linkedin.com/in/peadarcoyle</a>  \n",
    "\n",
    "</td> </tr><tr> <td>\n",
    "\n",
    "<a href=\"http://twitter.com/springcoil\"><svg width=\"40px\" height=\"40px\" viewBox=\"0 0 60 60\" version=\"1.1\" xmlns=\"http://www.w3.org/2000/svg\" xmlns:xlink=\"http://www.w3.org/1999/xlink\" xmlns:sketch=\"http://www.bohemiancoding.com/sketch/ns\">\n",
    "    <path d=\"M0,30 C0,13.4314567 13.4508663,0 30.0433526,0 C46.6358389,0 60.0867052,13.4314567 60.0867052,30 C60.0867052,46.5685433 46.6358389,60 30.0433526,60 C13.4508663,60 0,46.5685433 0,30 Z M0,30\" fill=\"#4099FF\" sketch:type=\"MSShapeGroup\"></path>\n",
    "    <path d=\"M29.2997675,23.8879776 L29.3627206,24.9260453 L28.3135016,24.798935 C24.4943445,24.3116787 21.1578281,22.6592444 18.3249368,19.8840023 L16.9399677,18.5069737 L16.5832333,19.5238563 C15.8277956,21.7906572 16.3104363,24.1845684 17.8842648,25.7946325 C18.72364,26.6844048 18.5347806,26.8115152 17.0868584,26.2818888 C16.5832333,26.1124083 16.1425613,25.985298 16.1005925,26.0488532 C15.9537019,26.1971486 16.457327,28.1249885 16.8560302,28.8876505 C17.4016241,29.9469033 18.5137962,30.9849709 19.7308902,31.5993375 L20.7591248,32.0865938 L19.5420308,32.1077788 C18.3669055,32.1077788 18.3249368,32.1289639 18.4508431,32.57385 C18.8705307,33.9508786 20.5282967,35.4126474 22.3749221,36.048199 L23.6759536,36.4930852 L22.5427971,37.1710069 C20.8640467,38.1455194 18.891515,38.6963309 16.9189833,38.738701 C15.9746862,38.759886 15.1982642,38.8446262 15.1982642,38.9081814 C15.1982642,39.1200319 17.7583585,40.306395 19.2482495,40.7724662 C23.7179224,42.1494948 29.0269705,41.5563132 33.0140027,39.2047722 C35.846894,37.5311528 38.6797853,34.2050993 40.0018012,30.9849709 C40.7152701,29.2689815 41.428739,26.1335934 41.428739,24.6294545 C41.428739,23.654942 41.4916922,23.5278317 42.6668174,22.3626537 C43.359302,21.6847319 44.0098178,20.943255 44.135724,20.7314044 C44.3455678,20.3288884 44.3245835,20.3288884 43.2543801,20.6890343 C41.4707078,21.324586 41.2188952,21.2398458 42.1002392,20.2865183 C42.750755,19.6085965 43.527177,18.3798634 43.527177,18.0197174 C43.527177,17.9561623 43.2124113,18.0620876 42.8556769,18.252753 C42.477958,18.4646036 41.6385828,18.7823794 41.0090514,18.9730449 L39.8758949,19.3331908 L38.8476603,18.634084 C38.281082,18.252753 37.4836756,17.829052 37.063988,17.7019416 C35.9937846,17.4053509 34.357003,17.447721 33.3917215,17.7866818 C30.768674,18.7400093 29.110908,21.1974757 29.2997675,23.8879776 Z M29.2997675,23.8879776\" id=\"Path\" fill=\"#FFFFFF\" sketch:type=\"MSShapeGroup\"></path>\n",
    "    <path d=\"M60.0867052,30 C60.0867052,46.5685433 46.6358389,60 30.0433526,60 C23.8895925,60 18.1679598,58.1525134 13.4044895,54.9827754 L47.8290478,5.81941103 C55.2628108,11.2806503 60.0867052,20.0777973 60.0867052,30 Z M60.0867052,30\" id=\"reflec\" fill-opacity=\"0.08\" fill=\"#000000\" sketch:type=\"MSShapeGroup\"></path>\n",
    "</svg></a>\n",
    "</td> <td>\n",
    "<a href=\"http://twitter.com/springcoil\" target=\"_blank\">@springcoil</a>  \n",
    "\n",
    "</td> </tr>\n",
    "</table>"
   ]
  },
  {
   "cell_type": "markdown",
   "metadata": {
    "slideshow": {
     "slide_type": "slide"
    }
   },
   "source": [
    "#Contents: Probabilistic Programming applied to Rugby\n",
    "* I'll discuss what probabilistic programming is, why should you care and how to use PyMC from Python to implement these methods. \n",
    "* I'll be applying these methods to studying the problem of 'rugby sports analytics' particularly how to model the winning team in the recent Six Nations in Rugby. \n",
    "* I will discuss the framework and how I was able to quickly and easily produce an innovative and powerful model as a non-expert.\n",
    "\n"
   ]
  },
  {
   "cell_type": "markdown",
   "metadata": {
    "slideshow": {
     "slide_type": "slide"
    }
   },
   "source": [
    "#All Sports Commentary!\n",
    "<img src=\"http://imgs.xkcd.com/comics/sports.png\" align=\"center\">\n",
    "* Attribution: Xkcd"
   ]
  },
  {
   "cell_type": "markdown",
   "metadata": {
    "slideshow": {
     "slide_type": "slide"
    }
   },
   "source": [
    "# How can statistics help with sports?\n",
    "* Well fundamentally a Rugby game is a predictible event.\n",
    "* How do we generate a model to predict the outcome of a tournament?\n",
    "* How do we quantify our uncertainty in our model?\n"
   ]
  },
  {
   "cell_type": "markdown",
   "metadata": {
    "slideshow": {
     "slide_type": "slide"
    }
   },
   "source": [
    "#What influenced me on this?\n",
    "<img src=\"http://blog.quantopian.com/wp-content/uploads/2014/12/GraphicalModel.jpg\">\n",
    "Attribution: Quantopian blog"
   ]
  },
  {
   "cell_type": "markdown",
   "metadata": {
    "slideshow": {
     "slide_type": "slide"
    }
   },
   "source": [
    "#What's wrong with statistics\n",
    "* Models should not be built for mathematical convenience (e.g. normality assumption), but to most accurately model the data.\n",
    "\n",
    "* Pre-specified models, like frequentist statistics, make many assumptions that are all to easily violated.\n",
    "\n"
   ]
  },
  {
   "cell_type": "markdown",
   "metadata": {
    "slideshow": {
     "slide_type": "slide"
    }
   },
   "source": [
    "#\"The purpose of computation is insight, not numbers.\" -- Richard Hamming"
   ]
  },
  {
   "cell_type": "markdown",
   "metadata": {
    "slideshow": {
     "slide_type": "slide"
    }
   },
   "source": [
    "# What is Bayesian Statistics?\n",
    "* At the core: formula to update our beliefs after having observed data (Bayes formula)\n",
    "* Implies that we have a prior belief about the world.\n",
    "* Updated beliefs after observing data is called posterior.\n",
    "* Beliefs are represented using random variables."
   ]
  },
  {
   "cell_type": "markdown",
   "metadata": {
    "slideshow": {
     "slide_type": "slide"
    }
   },
   "source": [
    "###So what problem could I apply Bayesian models to?\n",
    "* Rugby Analysis!\n",
    "<img src=\"rugbyball.jpg\", width=\"50%\" height=\"50%\"/>\n",
    "Attribution: http://www.sportsballshop.co.uk"
   ]
  },
  {
   "cell_type": "markdown",
   "metadata": {
    "slideshow": {
     "slide_type": "slide"
    }
   },
   "source": [
    "#Bayesian Rugby\n",
    " I came across the following blog post on http://danielweitzenfeld.github.io/passtheroc/blog/2014/10/28/bayes-premier-league/ \n",
    "\n",
    "\n",
    "\n",
    "* Based on the work of [Baio and Blangiardo](http://www.statistica.it/gianluca/Research/BaioBlangiardo.pdf)\n"
   ]
  },
  {
   "cell_type": "markdown",
   "metadata": {
    "slideshow": {
     "slide_type": "subslide"
    }
   },
   "source": [
    "* In this talk, I'm going to reproduce the first model described in the paper using pymc.\n",
    "* Since I am a rugby fan I decide to apply the results of the paper Bayesian Football to the Six Nations.\n"
   ]
  },
  {
   "cell_type": "markdown",
   "metadata": {
    "slideshow": {
     "slide_type": "slide"
    }
   },
   "source": [
    "<img src=\"http://upload.wikimedia.org/wikipedia/de/thumb/0/0b/Zalando_logo.svg/1024px-Zalando_logo.svg.png\">"
   ]
  },
  {
   "cell_type": "markdown",
   "metadata": {
    "slideshow": {
     "slide_type": "slide"
    }
   },
   "source": [
    "## What they did?\n",
    "Deriving our new measuring model and verifying that it works took some effort! But it was all worth it, because now we have:\n",
    "\n",
    "Automatic weight estimations for each Zalando article, which saves workers time\n",
    "A reliable way to know the accuracy of our estimations\n",
    "And most importantly: our warehouse workers can now focus on getting your fashion to you as quickly as possible. That’s isn’t just saving money–that’s priceless.\n",
    "\n"
   ]
  },
  {
   "cell_type": "markdown",
   "metadata": {
    "slideshow": {
     "slide_type": "slide"
    }
   },
   "source": [
    "#So why Bayesians?\n",
    "* Probabilistic Programming is a new paradigm.\n",
    "* Attributions: My friend Thomas Wiecki influenced a lot of my thinking on this.\n",
    "* I'm going to compare Blackbox Machine Learning with scikit-learn"
   ]
  },
  {
   "cell_type": "markdown",
   "metadata": {
    "slideshow": {
     "slide_type": "slide"
    }
   },
   "source": [
    "<img src='https://raw.githubusercontent.com/twiecki/pymc3_talk/master/blackbox.png'>\n",
    "\n",
    "* Source: <a href='https://speakerdeck.com/ogrisel/trends-in-machine-learning'>Olivier Grisel's talk on ML</a>\n"
   ]
  },
  {
   "cell_type": "markdown",
   "metadata": {
    "slideshow": {
     "slide_type": "slide"
    }
   },
   "source": [
    "# Limitations of Machine learning\n",
    "* A big limitation of Machine Learning is that most of the models are black boxes.\n"
   ]
  },
  {
   "cell_type": "markdown",
   "metadata": {
    "slideshow": {
     "slide_type": "slide"
    }
   },
   "source": [
    "\n",
    "<img src='https://raw.githubusercontent.com/twiecki/pymc3_talk/master/openbox.png'>\n",
    "\n",
    "Source: <a href='https://speakerdeck.com/ogrisel/trends-in-machine-learning'>Olivier Grisel's talk on ML</a>"
   ]
  },
  {
   "cell_type": "markdown",
   "metadata": {
    "slideshow": {
     "slide_type": "slide"
    }
   },
   "source": [
    "# Probabilistic Programming - what's the big deal?\n",
    "* We are able to use data and our prior beliefs to generate a model. \n",
    "* Generating a model is extremely powerful\n",
    "* We can tell a story, which appeals to our understanding of stories. \n"
   ]
  },
  {
   "cell_type": "code",
   "execution_count": 253,
   "metadata": {
    "collapsed": false,
    "slideshow": {
     "slide_type": "skip"
    }
   },
   "outputs": [],
   "source": [
    "import os\n",
    "import math\n",
    "import warnings\n",
    "import numpy as np\n",
    "import pandas as pd\n",
    "import matplotlib.pyplot as plt\n",
    "import pymc # I know folks are switching to \"as pm\" but I'm just not there yet\n",
    "%matplotlib inline\n",
    "import seaborn as sns\n",
    "from IPython.core.pylabtools import figsize\n",
    "import seaborn as sns\n",
    "figsize(12, 12)"
   ]
  },
  {
   "cell_type": "markdown",
   "metadata": {
    "slideshow": {
     "slide_type": "slide"
    }
   },
   "source": [
    "# Six Nations Rugby\n",
    "* Rugby is a physical sport popular worldwide.\n",
    "* Six Nations consists of Italy, Ireland, Scotland, England, France and Wales\n",
    "* Game consists of scoring tries (similar to touch downs) or kicking the goal.\n",
    "* Average player is something like 100kg and 1.82m tall.\n",
    "* Paul O'Connell the Irish captain is Height: 6' 6\" (1.98 m) Weight: 243 lbs (110 kg)\n"
   ]
  },
  {
   "cell_type": "markdown",
   "metadata": {
    "slideshow": {
     "slide_type": "slide"
    }
   },
   "source": [
    "#They compete for this!\n",
    "* Significant this year because the World Cup occurs in 2015.\n",
    "<img src=\"http://www.hostelrome.com/wp-content/uploads/2015/01/Rugby_Sei-Nazioni-Uomini.jpg\">\n",
    "* Photo: Hostelrome"
   ]
  },
  {
   "cell_type": "markdown",
   "metadata": {
    "slideshow": {
     "slide_type": "slide"
    }
   },
   "source": [
    "## Motivation\n",
    "\n",
    "\n",
    "* Your estimate of the strength of a team depends on your estimates of the other strengths\n",
    "* Ireland are a stronger team than Italy for example - but by how much?\n",
    "* Source for Results 2014 are Wikipedia. \n",
    "* I handcrafted these results\n",
    "* Small data"
   ]
  },
  {
   "cell_type": "markdown",
   "metadata": {
    "slideshow": {
     "slide_type": "slide"
    }
   },
   "source": [
    "<img src='smalldata.jpg'>"
   ]
  },
  {
   "cell_type": "code",
   "execution_count": 220,
   "metadata": {
    "collapsed": true,
    "slideshow": {
     "slide_type": "skip"
    }
   },
   "outputs": [],
   "source": [
    "DATA_DIR = os.path.join(os.getcwd(), 'data/')"
   ]
  },
  {
   "cell_type": "code",
   "execution_count": 221,
   "metadata": {
    "collapsed": false,
    "slideshow": {
     "slide_type": "subslide"
    }
   },
   "outputs": [
    {
     "data": {
      "text/html": [
       "<div style=\"max-height:1000px;max-width:1500px;overflow:auto;\">\n",
       "<table border=\"1\" class=\"dataframe\">\n",
       "  <thead>\n",
       "    <tr style=\"text-align: right;\">\n",
       "      <th></th>\n",
       "      <th>home_team</th>\n",
       "      <th>away_team</th>\n",
       "      <th>home_score</th>\n",
       "      <th>away_score</th>\n",
       "    </tr>\n",
       "  </thead>\n",
       "  <tbody>\n",
       "    <tr>\n",
       "      <th>10</th>\n",
       "      <td>Scotland</td>\n",
       "      <td>France</td>\n",
       "      <td>17</td>\n",
       "      <td>19</td>\n",
       "    </tr>\n",
       "    <tr>\n",
       "      <th>11</th>\n",
       "      <td>England</td>\n",
       "      <td>Wales</td>\n",
       "      <td>29</td>\n",
       "      <td>18</td>\n",
       "    </tr>\n",
       "    <tr>\n",
       "      <th>12</th>\n",
       "      <td>Italy</td>\n",
       "      <td>England</td>\n",
       "      <td>11</td>\n",
       "      <td>52</td>\n",
       "    </tr>\n",
       "    <tr>\n",
       "      <th>13</th>\n",
       "      <td>Wales</td>\n",
       "      <td>Scotland</td>\n",
       "      <td>51</td>\n",
       "      <td>3</td>\n",
       "    </tr>\n",
       "    <tr>\n",
       "      <th>14</th>\n",
       "      <td>France</td>\n",
       "      <td>Ireland</td>\n",
       "      <td>20</td>\n",
       "      <td>22</td>\n",
       "    </tr>\n",
       "  </tbody>\n",
       "</table>\n",
       "</div>"
      ],
      "text/plain": [
       "   home_team away_team  home_score  away_score\n",
       "10  Scotland    France          17          19\n",
       "11   England     Wales          29          18\n",
       "12     Italy   England          11          52\n",
       "13     Wales  Scotland          51           3\n",
       "14    France   Ireland          20          22"
      ]
     },
     "execution_count": 221,
     "metadata": {},
     "output_type": "execute_result"
    }
   ],
   "source": [
    "#The results_2014 is a handcrafted results table from Wikipedia\n",
    "data_file = DATA_DIR + 'results_2014.csv'\n",
    "df = pd.read_csv(data_file, sep=',')\n",
    "df.tail()\n",
    "\n",
    "\n"
   ]
  },
  {
   "cell_type": "code",
   "execution_count": 222,
   "metadata": {
    "collapsed": false,
    "slideshow": {
     "slide_type": "skip"
    }
   },
   "outputs": [
    {
     "data": {
      "text/html": [
       "<div style=\"max-height:1000px;max-width:1500px;overflow:auto;\">\n",
       "<table border=\"1\" class=\"dataframe\">\n",
       "  <thead>\n",
       "    <tr style=\"text-align: right;\">\n",
       "      <th></th>\n",
       "      <th>team</th>\n",
       "      <th>i</th>\n",
       "    </tr>\n",
       "  </thead>\n",
       "  <tbody>\n",
       "    <tr>\n",
       "      <th>0</th>\n",
       "      <td>Wales</td>\n",
       "      <td>0</td>\n",
       "    </tr>\n",
       "    <tr>\n",
       "      <th>1</th>\n",
       "      <td>France</td>\n",
       "      <td>1</td>\n",
       "    </tr>\n",
       "    <tr>\n",
       "      <th>2</th>\n",
       "      <td>Ireland</td>\n",
       "      <td>2</td>\n",
       "    </tr>\n",
       "    <tr>\n",
       "      <th>3</th>\n",
       "      <td>Scotland</td>\n",
       "      <td>3</td>\n",
       "    </tr>\n",
       "    <tr>\n",
       "      <th>4</th>\n",
       "      <td>Italy</td>\n",
       "      <td>4</td>\n",
       "    </tr>\n",
       "  </tbody>\n",
       "</table>\n",
       "</div>"
      ],
      "text/plain": [
       "       team  i\n",
       "0     Wales  0\n",
       "1    France  1\n",
       "2   Ireland  2\n",
       "3  Scotland  3\n",
       "4     Italy  4"
      ]
     },
     "execution_count": 222,
     "metadata": {},
     "output_type": "execute_result"
    }
   ],
   "source": [
    "teams = df.home_team.unique()\n",
    "teams = pd.DataFrame(teams, columns=['team'])\n",
    "teams['i'] = teams.index\n",
    "teams.head()"
   ]
  },
  {
   "cell_type": "markdown",
   "metadata": {
    "slideshow": {
     "slide_type": "slide"
    }
   },
   "source": [
    "* Now we need to do some merging and munging"
   ]
  },
  {
   "cell_type": "code",
   "execution_count": 223,
   "metadata": {
    "collapsed": false,
    "slideshow": {
     "slide_type": "subslide"
    }
   },
   "outputs": [
    {
     "data": {
      "text/html": [
       "<div style=\"max-height:1000px;max-width:1500px;overflow:auto;\">\n",
       "<table border=\"1\" class=\"dataframe\">\n",
       "  <thead>\n",
       "    <tr style=\"text-align: right;\">\n",
       "      <th></th>\n",
       "      <th>home_team</th>\n",
       "      <th>away_team</th>\n",
       "      <th>home_score</th>\n",
       "      <th>away_score</th>\n",
       "      <th>i_home</th>\n",
       "      <th>i_away</th>\n",
       "    </tr>\n",
       "  </thead>\n",
       "  <tbody>\n",
       "    <tr>\n",
       "      <th>0</th>\n",
       "      <td>Wales</td>\n",
       "      <td>Italy</td>\n",
       "      <td>23</td>\n",
       "      <td>15</td>\n",
       "      <td>0</td>\n",
       "      <td>4</td>\n",
       "    </tr>\n",
       "    <tr>\n",
       "      <th>1</th>\n",
       "      <td>France</td>\n",
       "      <td>England</td>\n",
       "      <td>26</td>\n",
       "      <td>24</td>\n",
       "      <td>1</td>\n",
       "      <td>5</td>\n",
       "    </tr>\n",
       "    <tr>\n",
       "      <th>2</th>\n",
       "      <td>Ireland</td>\n",
       "      <td>Scotland</td>\n",
       "      <td>28</td>\n",
       "      <td>6</td>\n",
       "      <td>2</td>\n",
       "      <td>3</td>\n",
       "    </tr>\n",
       "    <tr>\n",
       "      <th>3</th>\n",
       "      <td>Ireland</td>\n",
       "      <td>Wales</td>\n",
       "      <td>26</td>\n",
       "      <td>3</td>\n",
       "      <td>2</td>\n",
       "      <td>0</td>\n",
       "    </tr>\n",
       "    <tr>\n",
       "      <th>4</th>\n",
       "      <td>Scotland</td>\n",
       "      <td>England</td>\n",
       "      <td>0</td>\n",
       "      <td>20</td>\n",
       "      <td>3</td>\n",
       "      <td>5</td>\n",
       "    </tr>\n",
       "  </tbody>\n",
       "</table>\n",
       "</div>"
      ],
      "text/plain": [
       "  home_team away_team  home_score  away_score  i_home  i_away\n",
       "0     Wales     Italy          23          15       0       4\n",
       "1    France   England          26          24       1       5\n",
       "2   Ireland  Scotland          28           6       2       3\n",
       "3   Ireland     Wales          26           3       2       0\n",
       "4  Scotland   England           0          20       3       5"
      ]
     },
     "execution_count": 223,
     "metadata": {},
     "output_type": "execute_result"
    }
   ],
   "source": [
    "df = pd.merge(df, teams, left_on='home_team', right_on='team', how='left')\n",
    "df = df.rename(columns = {'i': 'i_home'}).drop('team', 1)\n",
    "df = pd.merge(df, teams, left_on='away_team', right_on='team', how='left')\n",
    "df = df.rename(columns = {'i': 'i_away'}).drop('team', 1)\n",
    "df.head()"
   ]
  },
  {
   "cell_type": "code",
   "execution_count": 224,
   "metadata": {
    "collapsed": false,
    "slideshow": {
     "slide_type": "skip"
    }
   },
   "outputs": [],
   "source": [
    "observed_home_goals = df.home_score.values\n",
    "observed_away_goals = df.away_score.values\n",
    "home_team = df.i_home.values\n",
    "away_team = df.i_away.values\n",
    "num_teams = len(df.i_home.drop_duplicates())\n",
    "num_games = len(home_team)\n"
   ]
  },
  {
   "cell_type": "markdown",
   "metadata": {
    "slideshow": {
     "slide_type": "slide"
    }
   },
   "source": [
    "Now we need to prepare the model for PyMC."
   ]
  },
  {
   "cell_type": "code",
   "execution_count": 225,
   "metadata": {
    "collapsed": true
   },
   "outputs": [],
   "source": [
    "g = df.groupby('i_away')\n",
    "att_starting_points = np.log(g.away_score.mean())\n",
    "g = df.groupby('i_home')\n",
    "def_starting_points = -np.log(g.away_score.mean())"
   ]
  },
  {
   "cell_type": "markdown",
   "metadata": {
    "slideshow": {
     "slide_type": "slide"
    }
   },
   "source": [
    "# What do we want to infer?\n",
    "* We want to infer the latent paremeters (every team's strength) that are generating the data we observe (the scorelines). \n",
    "* Moreover, we know that the scorelines are a noisy measurement of team strength, so ideally, we want a model that makes it easy to quantify our uncertainty about the underlying strengths.\n",
    "\n"
   ]
  },
  {
   "cell_type": "markdown",
   "metadata": {
    "slideshow": {
     "slide_type": "slide"
    }
   },
   "source": [
    "# While my MCMC gently samples\n",
    "* Often we don't know what the Bayesian Model is explicitly, so we have to 'estimate' the Bayesian Model'\n",
    "* If we can't solve something, approximate it.\n",
    "* Markov-Chain Monte Carlo (MCMC) instead draws samples from the posterior.\n",
    "* Fortunately, this algorithm can be applied to almost any model.\n"
   ]
  },
  {
   "cell_type": "markdown",
   "metadata": {
    "slideshow": {
     "slide_type": "subslide"
    }
   },
   "source": [
    "# What do we want?\n",
    "* We want to quantify our uncertainty\n",
    "* We want to also use this to generate a model\n",
    "* We want the answers as distributions *not* point estimates"
   ]
  },
  {
   "cell_type": "markdown",
   "metadata": {
    "slideshow": {
     "slide_type": "slide"
    }
   },
   "source": [
    "## What assumptions do we know for our 'generative story'?\n",
    "* We know that the Six Nations in Rugby only has 6 teams.\n",
    "* We have data from last year!\n",
    "* We also know that in sports scoring is modelled as a Poisson distribution\n",
    "<img src=\"http://upload.wikimedia.org/wikipedia/commons/1/16/Poisson_pmf.svg\">\n",
    "* Attribution: *Wikipedia*"
   ]
  },
  {
   "cell_type": "markdown",
   "metadata": {
    "slideshow": {
     "slide_type": "slide"
    }
   },
   "source": [
    "#The model.\n",
    "<p>The league is made up by a total of T= 6 teams, playing each other once \n",
    "in a season. We indicate the number of points scored by the home and the away team in the g-th game of the season (15 games) as $y_{g1}$ and $y_{g2}$ respectively. </p>\n",
    "<p>The vector of observed counts $\\mathbb{y} = (y_{g1}, y_{g2})$ is modelled as independent Poisson:\n",
    "$y_{gi}| \\theta_{gj} \\tilde\\;\\;  Poisson(\\theta_{gj})$\n",
    "where the theta parameters represent the scoring intensity in the g-th game for the team playing at home (j=1) and away (j=2), respectively.</p>\n",
    "\n",
    "\n"
   ]
  },
  {
   "cell_type": "markdown",
   "metadata": {
    "slideshow": {
     "slide_type": "slide"
    }
   },
   "source": [
    "<p>We model these parameters according to a formulation that has been used widely in the statistical literature, assuming a log-linear random effect model:\n",
    "$$log \\theta_{g1} = home + att_{h(g)} + def_{a(g)} $$\n",
    "$$log \\theta_{g2} = att_{a(g)} + def_{h(g)}$$\n",
    "the parameter home represents the advantage for the team hosting the game\n",
    "and we assume that this effect is constant for all the teams and\n",
    "throughout the season. \n",
    "\n"
   ]
  },
  {
   "cell_type": "markdown",
   "metadata": {
    "slideshow": {
     "slide_type": "subslide"
    }
   },
   "source": [
    "* Key assumption home effect is an advantage in Sports\n",
    "* We know these things empirically from our 'domain specific' knowledge\n",
    "* Bayesian Models allow you to incorporate *beliefs* or *knowledge* into your model!\n"
   ]
  },
  {
   "cell_type": "markdown",
   "metadata": {
    "slideshow": {
     "slide_type": "skip"
    }
   },
   "source": [
    "In addition, the scoring intensity is \n",
    "determined jointly by the attack\n",
    "and defense ability of the two teams involved, represented by the parameters att and def, respectively.\n",
    "In line with the Bayesian approach, we have to specify some suitable prior distributions for all the \n",
    "random parameters in our model. The variable $home$ \n",
    "is modelled as a fixed effect, assuming a standard \n",
    "flat prior distribution. We use the notation of describing the Normal distribution in terms of mean \n",
    "and the precision. \n",
    "$home \\tilde\\; Normal(0,0.0001)$</p>\n",
    "<p>Conversely, for each t = 1, ..., T, the team-specific effects are modelled as exchangeable from a common distribution:\n",
    "$att_t \\tilde\\; Normal(\\mu_{att}, \\tau_{att})$\n",
    "and $def_t \\tilde\\; Normal(\\mu_{def}, \\tau_{def})$</p>\n",
    "<p>Note that they're breaking out team strength into attacking and defending strength. \n",
    "A negative defense parameter will sap the mojo from the opposing team&#39;s attacking parameter.</p>\n",
    "\n"
   ]
  },
  {
   "cell_type": "markdown",
   "metadata": {
    "slideshow": {
     "slide_type": "skip"
    }
   },
   "source": [
    "<p>I made two tweaks to the model. It didn't make sense to me to have a $\\mu_{att}$ when we&#39;re enforcing the sum-to-zero constraint by subtracting the mean anyway. So I eliminated $\\mu_{att}$ and $\\mu_{def}$</p>\n",
    "<p>Also because of the sum-to-zero constraint, \n",
    "it seemed to me that we needed an intercept term in the log-linear model, capturing the average goals scored per game by the away team.\n",
    "This we model with the following hyperprior.\n",
    "$$intercept \\tilde\\; Normal(0, 0.001)$$</p>\n",
    "\n",
    "* The hyper-priors on the attack and defense parameters are also flat\n",
    "* $\\mu_att \\tilde\\; Normal(0,0.001)$\n",
    "* $\\mu_def \\tilde\\; Normal(0,0.001)$\n",
    "* $\\tau_att \\tilde\\; \\Gamma(0.1,0.1)$\n",
    "* $\\tau_def \\tilde\\; \\Gamma(0.1,0.1)$"
   ]
  },
  {
   "cell_type": "markdown",
   "metadata": {
    "slideshow": {
     "slide_type": "slide"
    }
   },
   "source": [
    "###Digression: Why the flat priors were picked (our hyperpriors are flat)\n",
    "* There are lots of different ways of picking priors - see the literature\n",
    "* I learned from this that it didn't make any difference to the results picking a uniform prior versus a flat prior\n",
    "\n",
    "Often it simply doesn't matter much what prior you use. \n",
    "\n",
    "\n"
   ]
  },
  {
   "cell_type": "markdown",
   "metadata": {
    "slideshow": {
     "slide_type": "subslide"
    }
   },
   "source": [
    "\n",
    "###Definition: A prior distribution is non-informative if the prior is “flat” relative to the likelihood function.\n",
    "\n",
    "\n",
    "* We are trying to have a reasonable model and let inference happen from the data set.\n",
    "* ##Key takeaway - Often in Bayesian modelling it doesn't matter what your priors are. Let the data generate the story :) "
   ]
  },
  {
   "cell_type": "code",
   "execution_count": 226,
   "metadata": {
    "collapsed": false,
    "slideshow": {
     "slide_type": "slide"
    }
   },
   "outputs": [],
   "source": [
    "#hyperpriors\n",
    "home = pymc.Normal('home', 0, .0001, value=0)\n",
    "tau_att = pymc.Gamma('tau_att', .1, .1, value=10)\n",
    "tau_def = pymc.Gamma('tau_def', .1, .1, value=10)\n",
    "intercept = pymc.Normal('intercept', 0, .0001, value=0)\n",
    "#team-specific parameters\n",
    "atts_star = pymc.Normal(\"atts_star\", \n",
    "                        mu=0, \n",
    "                        tau=tau_att, \n",
    "                        size=num_teams, \n",
    "                        value=att_starting_points.values)\n",
    "defs_star = pymc.Normal(\"defs_star\", \n",
    "                        mu=0, \n",
    "                        tau=tau_def, \n",
    "                        size=num_teams, \n",
    "                        value=def_starting_points.values) \n",
    "\n",
    "\n"
   ]
  },
  {
   "cell_type": "code",
   "execution_count": 227,
   "metadata": {
    "collapsed": true,
    "slideshow": {
     "slide_type": "skip"
    }
   },
   "outputs": [],
   "source": [
    "# trick to code the sum to zero constraint\n",
    "@pymc.deterministic\n",
    "def atts(atts_star=atts_star):\n",
    "    atts = atts_star.copy()\n",
    "    atts = atts - np.mean(atts_star)\n",
    "    return atts\n",
    "\n",
    "@pymc.deterministic\n",
    "def defs(defs_star=defs_star):\n",
    "    defs = defs_star.copy()\n",
    "    defs = defs - np.mean(defs_star)\n",
    "    return defs\n",
    "\n",
    "@pymc.deterministic\n",
    "def home_theta(home_team=home_team, \n",
    "               away_team=away_team, \n",
    "               home=home, \n",
    "               atts=atts, \n",
    "               defs=defs, \n",
    "               intercept=intercept): \n",
    "    return np.exp(intercept + \n",
    "                  home + \n",
    "                  atts[home_team] + \n",
    "                  defs[away_team])\n",
    "  \n",
    "@pymc.deterministic\n",
    "def away_theta(home_team=home_team, \n",
    "               away_team=away_team, \n",
    "               home=home, \n",
    "               atts=atts, \n",
    "               defs=defs, \n",
    "               intercept=intercept): \n",
    "    return np.exp(intercept + \n",
    "                  atts[away_team] + \n",
    "                  defs[home_team])   \n",
    "\n"
   ]
  },
  {
   "cell_type": "markdown",
   "metadata": {
    "slideshow": {
     "slide_type": "subslide"
    }
   },
   "source": [
    "# Let us run the model!\n",
    "* We specify the priors as Gamma distributions\n",
    "\n"
   ]
  },
  {
   "cell_type": "code",
   "execution_count": 228,
   "metadata": {
    "collapsed": false,
    "slideshow": {
     "slide_type": "subslide"
    }
   },
   "outputs": [
    {
     "name": "stdout",
     "output_type": "stream",
     "text": [
      " [-----------------100%-----------------] 200000 of 200000 complete in 73.6 sec"
     ]
    }
   ],
   "source": [
    "home_points = pymc.Poisson('home_points', \n",
    "                          mu=home_theta, \n",
    "                          value=observed_home_goals, \n",
    "                          observed=True)\n",
    "away_points = pymc.Poisson('away_points', \n",
    "                          mu=away_theta, \n",
    "                          value=observed_away_goals, \n",
    "                          observed=True)\n",
    "\n",
    "mcmc = pymc.MCMC([home, intercept, tau_att, tau_def, \n",
    "                  home_theta, away_theta, \n",
    "                  atts_star, defs_star, atts, defs, \n",
    "                  home_points, away_points])\n",
    "map_ = pymc.MAP( mcmc )\n",
    "map_.fit()\n",
    "\n",
    "mcmc.sample(200000, 40000, 20)"
   ]
  },
  {
   "cell_type": "markdown",
   "metadata": {
    "slideshow": {
     "slide_type": "slide"
    }
   },
   "source": [
    "#Diagnostics\n",
    "Let's see if/how the model converged. \n",
    "The home parameter looks good, and indicates that home field advantage amounts to goals per game at the intercept.\n",
    "We can see that it converges just like the model for the Premier League in the other tutorial.\n",
    "I wonder and this is left as a question if all field sports have models of this form that converge."
   ]
  },
  {
   "cell_type": "code",
   "execution_count": 229,
   "metadata": {
    "collapsed": false,
    "slideshow": {
     "slide_type": "subslide"
    }
   },
   "outputs": [
    {
     "name": "stdout",
     "output_type": "stream",
     "text": [
      "Plotting home\n"
     ]
    },
    {
     "data": {
      "image/png": "[encoded data removed]",
      "text/plain": [
       "<matplotlib.figure.Figure at 0x1138377f0>"
      ]
     },
     "metadata": {},
     "output_type": "display_data"
    }
   ],
   "source": [
    "pymc.Matplot.plot(home)"
   ]
  },
  {
   "cell_type": "markdown",
   "metadata": {
    "slideshow": {
     "slide_type": "slide"
    }
   },
   "source": [
    "\n",
    "* We can see in this analysis that home advantage gives about 0.55 points advantage.\n",
    "* We also see not too much auto-correlation, so this looks quite good plot wise.\n",
    "* We see here how *probabilistic programming* allows us to quantify our uncertainty about certain parameters.\n"
   ]
  },
  {
   "cell_type": "code",
   "execution_count": 230,
   "metadata": {
    "collapsed": false,
    "slideshow": {
     "slide_type": "slide"
    }
   },
   "outputs": [
    {
     "name": "stdout",
     "output_type": "stream",
     "text": [
      "Plotting atts_0\n",
      "Plotting atts_1\n",
      "Plotting atts_2\n",
      "Plotting atts_3\n",
      "Plotting atts_4\n",
      "Plotting atts_5\n"
     ]
    },
    {
     "data": {
      "image/png": "[encoded data removed]",
      "text/plain": [
       "<matplotlib.figure.Figure at 0x114237860>"
      ]
     },
     "metadata": {},
     "output_type": "display_data"
    },
    {
     "data": {
      "image/png": "[encoded data removed]",
      "text/plain": [
       "<matplotlib.figure.Figure at 0x1111d3a58>"
      ]
     },
     "metadata": {},
     "output_type": "display_data"
    }
   ],
   "source": [
    "pymc.Matplot.plot(atts)\n",
    "# We can plot all of the parameters, just to see. "
   ]
  },
  {
   "cell_type": "code",
   "execution_count": 231,
   "metadata": {
    "collapsed": false
   },
   "outputs": [],
   "source": [
    "observed_season = DATA_DIR + 'table_2014.csv'\n",
    "df_observed = pd.read_csv(observed_season)\n",
    "df_observed.loc[df_observed.QR.isnull(), 'QR'] = ''\n",
    "df_avg = pd.DataFrame({'avg_att': atts.stats()['mean'],\n",
    "                       'avg_def': defs.stats()['mean']}, \n",
    "                      index=teams.team.values)\n"
   ]
  },
  {
   "cell_type": "code",
   "execution_count": 232,
   "metadata": {
    "collapsed": false
   },
   "outputs": [],
   "source": [
    "df_new = df_avg.merge(df_observed, left_index=True, right_on='team', how='left')\n",
    "\n",
    "#Bring in the new csv file\n",
    "df_results = pd.read_csv('df_avg_data_edited.csv', sep=';')"
   ]
  },
  {
   "cell_type": "code",
   "execution_count": 233,
   "metadata": {
    "collapsed": false
   },
   "outputs": [
    {
     "data": {
      "text/html": [
       "<div style=\"max-height:1000px;max-width:1500px;overflow:auto;\">\n",
       "<table border=\"1\" class=\"dataframe\">\n",
       "  <thead>\n",
       "    <tr style=\"text-align: right;\">\n",
       "      <th></th>\n",
       "      <th>avg_att</th>\n",
       "      <th>avg_def</th>\n",
       "      <th>points</th>\n",
       "      <th>team</th>\n",
       "      <th>position</th>\n",
       "      <th>QR</th>\n",
       "    </tr>\n",
       "  </thead>\n",
       "  <tbody>\n",
       "    <tr>\n",
       "      <th>1</th>\n",
       "      <td>0.096729</td>\n",
       "      <td>0.150764</td>\n",
       "      <td>6</td>\n",
       "      <td>France</td>\n",
       "      <td>4</td>\n",
       "      <td>NaN</td>\n",
       "    </tr>\n",
       "    <tr>\n",
       "      <th>2</th>\n",
       "      <td>0.179363</td>\n",
       "      <td>-0.560665</td>\n",
       "      <td>8</td>\n",
       "      <td>Ireland</td>\n",
       "      <td>1</td>\n",
       "      <td>winners</td>\n",
       "    </tr>\n",
       "    <tr>\n",
       "      <th>3</th>\n",
       "      <td>-0.549843</td>\n",
       "      <td>0.289372</td>\n",
       "      <td>2</td>\n",
       "      <td>Scotland</td>\n",
       "      <td>5</td>\n",
       "      <td>NaN</td>\n",
       "    </tr>\n",
       "    <tr>\n",
       "      <th>4</th>\n",
       "      <td>-0.251418</td>\n",
       "      <td>0.515101</td>\n",
       "      <td>0</td>\n",
       "      <td>Italy</td>\n",
       "      <td>6</td>\n",
       "      <td>wooden_spoon</td>\n",
       "    </tr>\n",
       "    <tr>\n",
       "      <th>5</th>\n",
       "      <td>0.399824</td>\n",
       "      <td>-0.255811</td>\n",
       "      <td>8</td>\n",
       "      <td>England</td>\n",
       "      <td>2</td>\n",
       "      <td>triple_crown</td>\n",
       "    </tr>\n",
       "  </tbody>\n",
       "</table>\n",
       "</div>"
      ],
      "text/plain": [
       "    avg_att   avg_def  points      team  position            QR\n",
       "1  0.096729  0.150764       6    France         4           NaN\n",
       "2  0.179363 -0.560665       8   Ireland         1       winners\n",
       "3 -0.549843  0.289372       2  Scotland         5           NaN\n",
       "4 -0.251418  0.515101       0     Italy         6  wooden_spoon\n",
       "5  0.399824 -0.255811       8   England         2  triple_crown"
      ]
     },
     "execution_count": 233,
     "metadata": {},
     "output_type": "execute_result"
    }
   ],
   "source": [
    "df_results.tail()"
   ]
  },
  {
   "cell_type": "code",
   "execution_count": 254,
   "metadata": {
    "collapsed": false,
    "slideshow": {
     "slide_type": "skip"
    }
   },
   "outputs": [],
   "source": [
    "\n",
    "def fig3():\n",
    "    fig, ax = plt.subplots(figsize=(12,12))\n",
    "    for outcome in ['winners', 'wooden_spoon', 'triple_crown', 'NaN']:\n",
    "        ax.plot(df_results.avg_att[df_results.QR == outcome], \n",
    "    df_results.avg_def[df_results.QR == outcome], 'o', label=outcome)\n",
    "    for label, x, y in zip(df_results.team.values, df_results.avg_att.values, df_results.avg_def.values):\n",
    "        ax.annotate(label, xy=(x,y), xytext = (-5,5), textcoords = 'offset points')\n",
    "        ax.set_title('Attack vs Defense avg effect: 13-14 Six Nations')\n",
    "        ax.set_xlabel('Avg attack effect')\n",
    "        ax.set_ylabel('Avg defense effect')\n",
    "        ax.legend()"
   ]
  },
  {
   "cell_type": "code",
   "execution_count": 255,
   "metadata": {
    "collapsed": false,
    "slideshow": {
     "slide_type": "slide"
    }
   },
   "outputs": [
    {
     "data": {
      "image/png": "[encoded data removed]",
      "text/plain": [
       "<matplotlib.figure.Figure at 0x1143c65f8>"
      ]
     },
     "metadata": {},
     "output_type": "display_data"
    }
   ],
   "source": [
    "fig3()"
   ]
  },
  {
   "cell_type": "markdown",
   "metadata": {
    "slideshow": {
     "slide_type": "slide"
    }
   },
   "source": [
    "#Simulating a season\n",
    "We would like to now simulate a season. Just to see what happens. "
   ]
  },
  {
   "cell_type": "code",
   "execution_count": 235,
   "metadata": {
    "collapsed": true,
    "slideshow": {
     "slide_type": "skip"
    }
   },
   "outputs": [],
   "source": [
    "def simulate_season():\n",
    "    \"\"\"\n",
    "    Simulate a season once, using one random draw from the mcmc chain. \n",
    "    \"\"\"\n",
    "    num_samples = atts.trace().shape[0]\n",
    "    draw = np.random.randint(0, num_samples)\n",
    "    atts_draw = pd.DataFrame({'att': atts.trace()[draw, :],})\n",
    "    defs_draw = pd.DataFrame({'def': defs.trace()[draw, :],})\n",
    "    home_draw = home.trace()[draw]\n",
    "    intercept_draw = intercept.trace()[draw]\n",
    "    season = df.copy()\n",
    "    season = pd.merge(season, atts_draw, left_on='i_home', right_index=True)\n",
    "    season = pd.merge(season, defs_draw, left_on='i_home', right_index=True)\n",
    "    season = season.rename(columns = {'att': 'att_home', 'def': 'def_home'})\n",
    "    season = pd.merge(season, atts_draw, left_on='i_away', right_index=True)\n",
    "    season = pd.merge(season, defs_draw, left_on='i_away', right_index=True)\n",
    "    season = season.rename(columns = {'att': 'att_away', 'def': 'def_away'})\n",
    "    season['home'] = home_draw\n",
    "    season['intercept'] = intercept_draw\n",
    "    season['home_theta'] = season.apply(lambda x: math.exp(x['intercept'] + \n",
    "                                                           x['home'] + \n",
    "                                                           x['att_home'] + \n",
    "                                                           x['def_away']), axis=1)\n",
    "    season['away_theta'] = season.apply(lambda x: math.exp(x['intercept'] + \n",
    "                                                           x['att_away'] + \n",
    "                                                           x['def_home']), axis=1)\n",
    "    season['home_goals'] = season.apply(lambda x: np.random.poisson(x['home_theta']), axis=1)\n",
    "    season['away_goals'] = season.apply(lambda x: np.random.poisson(x['away_theta']), axis=1)\n",
    "    season['home_outcome'] = season.apply(lambda x: 'win' if x['home_goals'] > x['away_goals'] else \n",
    "                                                    'loss' if x['home_goals'] < x['away_goals'] else 'draw', axis=1)\n",
    "    season['away_outcome'] = season.apply(lambda x: 'win' if x['home_goals'] < x['away_goals'] else \n",
    "                                                    'loss' if x['home_goals'] > x['away_goals'] else 'draw', axis=1)\n",
    "    season = season.join(pd.get_dummies(season.home_outcome, prefix='home'))\n",
    "    season = season.join(pd.get_dummies(season.away_outcome, prefix='away'))\n",
    "    return season\n",
    "\n",
    "\n",
    "def create_season_table(season):\n",
    "    \"\"\"\n",
    "    Using a season dataframe output by simulate_season(), create a summary dataframe with wins, losses, goals for, etc.\n",
    "    \n",
    "    \"\"\"\n",
    "    g = season.groupby('i_home')    \n",
    "    home = pd.DataFrame({'home_goals': g.home_goals.sum(),\n",
    "                         'home_goals_against': g.away_goals.sum(),\n",
    "                         'home_wins': g.home_win.sum(),\n",
    "                         'home_losses': g.home_loss.sum()\n",
    "                         })\n",
    "    g = season.groupby('i_away')    \n",
    "    away = pd.DataFrame({'away_goals': g.away_goals.sum(),\n",
    "                         'away_goals_against': g.home_goals.sum(),\n",
    "                         'away_wins': g.away_win.sum(),\n",
    "                         'away_losses': g.away_loss.sum()\n",
    "                         })\n",
    "    df = home.join(away)\n",
    "    df['wins'] = df.home_wins + df.away_wins\n",
    "    df['losses'] = df.home_losses + df.away_losses\n",
    "    df['points'] = df.wins * 2\n",
    "    df['gf'] = df.home_goals + df.away_goals\n",
    "    df['ga'] = df.home_goals_against + df.away_goals_against\n",
    "    df['gd'] = df.gf - df.ga\n",
    "    df = pd.merge(teams, df, left_on='i', right_index=True)\n",
    "    df = df.sort_index(by='points', ascending=False)\n",
    "    df = df.reset_index()\n",
    "    df['position'] = df.index + 1\n",
    "    df['champion'] = (df.position == 1).astype(int)\n",
    "    df['relegated'] = (df.position > 5).astype(int)\n",
    "    return df  \n",
    "    \n",
    "def simulate_seasons(n=100):\n",
    "    dfs = []\n",
    "    for i in range(n):\n",
    "        s = simulate_season()\n",
    "        t = create_season_table(s)\n",
    "        t['iteration'] = i\n",
    "        dfs.append(t)\n",
    "    return pd.concat(dfs, ignore_index=True)"
   ]
  },
  {
   "cell_type": "markdown",
   "metadata": {
    "slideshow": {
     "slide_type": "slide"
    }
   },
   "source": [
    "# Simulation\n",
    "* We are going to simulate 1000 seasons\n"
   ]
  },
  {
   "cell_type": "code",
   "execution_count": 236,
   "metadata": {
    "collapsed": false,
    "slideshow": {
     "slide_type": "subslide"
    }
   },
   "outputs": [],
   "source": [
    "simuls = simulate_seasons(1000)"
   ]
  },
  {
   "cell_type": "code",
   "execution_count": 237,
   "metadata": {
    "collapsed": false,
    "slideshow": {
     "slide_type": "skip"
    }
   },
   "outputs": [],
   "source": [
    "def fig1():\n",
    "    ax = simuls.points[simuls.team == 'Ireland'].hist()\n",
    "    median = simuls.points[simuls.team == 'Ireland'].median()\n",
    "    ax.set_title('Ireland: 2015 points, 1000 simulations')\n",
    "    ax.plot([median, median], ax.get_ylim())\n",
    "    plt.annotate('Median: %s' % median, xy=(median + 1, ax.get_ylim()[1]-10))"
   ]
  },
  {
   "cell_type": "code",
   "execution_count": 238,
   "metadata": {
    "collapsed": false,
    "slideshow": {
     "slide_type": "slide"
    }
   },
   "outputs": [
    {
     "data": {
      "image/png": "[encoded data removed]",
      "text/plain": [
       "<matplotlib.figure.Figure at 0x109a0bfd0>"
      ]
     },
     "metadata": {},
     "output_type": "display_data"
    }
   ],
   "source": [
    "fig1()"
   ]
  },
  {
   "cell_type": "markdown",
   "metadata": {
    "slideshow": {
     "slide_type": "slide"
    }
   },
   "source": [
    "* So what have we learned so far, we've got 1000 simulations of Ireland and their median points in the table is 8.\n",
    "* In Rugby you get 2 points per win, and there are 5 games per year. So this model predicted that Ireland would win most of the time 4 games.\n"
   ]
  },
  {
   "cell_type": "code",
   "execution_count": 239,
   "metadata": {
    "collapsed": false,
    "slideshow": {
     "slide_type": "skip"
    }
   },
   "outputs": [],
   "source": [
    "def fig2():\n",
    "    ax = simuls.gf[simuls.team == 'Ireland'].hist(figsize=(7,5))\n",
    "    median = simuls.gf[simuls.team == 'Ireland'].median()\n",
    "    ax.set_title('Ireland: 2015 scores for, 1000 simulations')\n",
    "    ax.plot([median, median], ax.get_ylim())\n",
    "    plt.annotate('Median: %s' % median, xy=(median + 1, ax.get_ylim()[1]-10))"
   ]
  },
  {
   "cell_type": "code",
   "execution_count": 240,
   "metadata": {
    "collapsed": false,
    "slideshow": {
     "slide_type": "slide"
    }
   },
   "outputs": [
    {
     "data": {
      "image/png": "[encoded data removed]",
      "text/plain": [
       "<matplotlib.figure.Figure at 0x1143b3048>"
      ]
     },
     "metadata": {},
     "output_type": "display_data"
    }
   ],
   "source": [
    "fig2()"
   ]
  },
  {
   "cell_type": "markdown",
   "metadata": {
    "slideshow": {
     "slide_type": "slide"
    }
   },
   "source": [
    "#What happened in reality?\n",
    "* Well Ireland actually scored 119 points, so the model over predicted this!\n",
    "* We call this 'shrinkage' in the literature. \n",
    "* All models are wrong, but some are useful"
   ]
  },
  {
   "cell_type": "markdown",
   "metadata": {
    "slideshow": {
     "slide_type": "slide"
    }
   },
   "source": [
    "# What are the predictions of the model?\n",
    "* So let us look at the winning team on average.\n",
    "* We do a simulation and we'll assign probability of 'winning' to the team\n",
    "* We used the MCMC to do this.\n"
   ]
  },
  {
   "cell_type": "code",
   "execution_count": 241,
   "metadata": {
    "collapsed": true,
    "slideshow": {
     "slide_type": "skip"
    }
   },
   "outputs": [],
   "source": [
    "g = simuls.groupby('team')\n",
    "df_champs = pd.DataFrame({'percent_champs': g.champion.mean()})\n",
    "df_champs = df_champs.sort_index(by='percent_champs')\n",
    "df_champs = df_champs[df_champs.percent_champs > .05]\n",
    "df_champs = df_champs.reset_index()"
   ]
  },
  {
   "cell_type": "code",
   "execution_count": 242,
   "metadata": {
    "collapsed": false,
    "slideshow": {
     "slide_type": "slide"
    }
   },
   "outputs": [
    {
     "data": {
      "image/png": "[encoded data removed]",
      "text/plain": [
       "<matplotlib.figure.Figure at 0x11081dfd0>"
      ]
     },
     "metadata": {},
     "output_type": "display_data"
    }
   ],
   "source": [
    "\n",
    "fig, ax = plt.subplots(figsize=(8,6))\n",
    "ax.barh(df_champs.index.values, df_champs.percent_champs.values)\n",
    "\n",
    "for i, row in df_champs.iterrows():\n",
    "    label = \"{0:.1f}%\".format(100 * row['percent_champs'])\n",
    "    ax.annotate(label, xy=(row['percent_champs'], i), xytext = (3, 10), textcoords = 'offset points')\n",
    "ax.set_ylabel('Team')\n",
    "ax.set_title('% of Simulated Seasons In Which Team Finished Winners')\n",
    "_= ax.set_yticks(df_champs.index + .5)\n",
    "_= ax.set_yticklabels(df_champs['team'].values)"
   ]
  },
  {
   "cell_type": "markdown",
   "metadata": {
    "slideshow": {
     "slide_type": "slide"
    }
   },
   "source": [
    "Unfortunately it seems that in most of the Universes England come top of the Six Nations. And as an Irish man this is firm proof that I put Mathematical rigour before patriotism :)\n",
    "This is a reasonable result, and I hope it proved a nice example of Bayesian models in Rugby Analytics."
   ]
  },
  {
   "cell_type": "markdown",
   "metadata": {
    "slideshow": {
     "slide_type": "slide"
    }
   },
   "source": [
    "# What actually happened\n",
    "We need to investigate like 'scientists' what actually happened.\n"
   ]
  },
  {
   "cell_type": "code",
   "execution_count": 243,
   "metadata": {
    "collapsed": false,
    "slideshow": {
     "slide_type": "subslide"
    }
   },
   "outputs": [
    {
     "data": {
      "text/html": [
       "<div style=\"max-height:1000px;max-width:1500px;overflow:auto;\">\n",
       "<table border=\"1\" class=\"dataframe\">\n",
       "  <thead>\n",
       "    <tr style=\"text-align: right;\">\n",
       "      <th></th>\n",
       "      <th>Rank</th>\n",
       "      <th>Team</th>\n",
       "      <th>Games</th>\n",
       "      <th>Wins</th>\n",
       "      <th>Draws</th>\n",
       "      <th>Losses</th>\n",
       "      <th>Points_For</th>\n",
       "      <th>Points_Against</th>\n",
       "      <th>Points</th>\n",
       "    </tr>\n",
       "  </thead>\n",
       "  <tbody>\n",
       "    <tr>\n",
       "      <th>0</th>\n",
       "      <td>1</td>\n",
       "      <td>Ireland</td>\n",
       "      <td>5</td>\n",
       "      <td>4</td>\n",
       "      <td>0</td>\n",
       "      <td>1</td>\n",
       "      <td>119</td>\n",
       "      <td>56</td>\n",
       "      <td>8</td>\n",
       "    </tr>\n",
       "    <tr>\n",
       "      <th>1</th>\n",
       "      <td>2</td>\n",
       "      <td>England</td>\n",
       "      <td>5</td>\n",
       "      <td>4</td>\n",
       "      <td>0</td>\n",
       "      <td>1</td>\n",
       "      <td>157</td>\n",
       "      <td>100</td>\n",
       "      <td>8</td>\n",
       "    </tr>\n",
       "    <tr>\n",
       "      <th>2</th>\n",
       "      <td>3</td>\n",
       "      <td>Wales</td>\n",
       "      <td>5</td>\n",
       "      <td>4</td>\n",
       "      <td>0</td>\n",
       "      <td>1</td>\n",
       "      <td>146</td>\n",
       "      <td>93</td>\n",
       "      <td>8</td>\n",
       "    </tr>\n",
       "    <tr>\n",
       "      <th>3</th>\n",
       "      <td>4</td>\n",
       "      <td>France</td>\n",
       "      <td>5</td>\n",
       "      <td>2</td>\n",
       "      <td>0</td>\n",
       "      <td>3</td>\n",
       "      <td>103</td>\n",
       "      <td>101</td>\n",
       "      <td>4</td>\n",
       "    </tr>\n",
       "    <tr>\n",
       "      <th>4</th>\n",
       "      <td>5</td>\n",
       "      <td>Italy</td>\n",
       "      <td>5</td>\n",
       "      <td>1</td>\n",
       "      <td>0</td>\n",
       "      <td>4</td>\n",
       "      <td>62</td>\n",
       "      <td>182</td>\n",
       "      <td>2</td>\n",
       "    </tr>\n",
       "    <tr>\n",
       "      <th>5</th>\n",
       "      <td>6</td>\n",
       "      <td>Scotland</td>\n",
       "      <td>5</td>\n",
       "      <td>0</td>\n",
       "      <td>0</td>\n",
       "      <td>5</td>\n",
       "      <td>73</td>\n",
       "      <td>128</td>\n",
       "      <td>0</td>\n",
       "    </tr>\n",
       "  </tbody>\n",
       "</table>\n",
       "</div>"
      ],
      "text/plain": [
       "   Rank      Team  Games  Wins  Draws  Losses  Points_For  Points_Against  \\\n",
       "0     1  Ireland       5     4      0       1         119              56   \n",
       "1     2  England       5     4      0       1         157             100   \n",
       "2     3  Wales         5     4      0       1         146              93   \n",
       "3     4  France        5     2      0       3         103             101   \n",
       "4     5  Italy         5     1      0       4          62             182   \n",
       "5     6  Scotland      5     0      0       5          73             128   \n",
       "\n",
       "   Points  \n",
       "0       8  \n",
       "1       8  \n",
       "2       8  \n",
       "3       4  \n",
       "4       2  \n",
       "5       0  "
      ]
     },
     "execution_count": 243,
     "metadata": {},
     "output_type": "execute_result"
    }
   ],
   "source": [
    "pd.read_csv('data/results_2015.csv', sep='\\t', header=0, \n",
    "            names =['Rank','Team','Games','Wins','Draws',\n",
    "                    'Losses','Points_For','Points_Against','Points'])"
   ]
  },
  {
   "cell_type": "markdown",
   "metadata": {
    "slideshow": {
     "slide_type": "subslide"
    }
   },
   "source": [
    "##Ireland won the Six Nations!\n",
    "* The model incorrectly predicted that England would come out on top.\n",
    "* Ireland actually won by points difference of 6 points. \n",
    "* It really came down to the wire!"
   ]
  },
  {
   "cell_type": "code",
   "execution_count": 244,
   "metadata": {
    "collapsed": false,
    "slideshow": {
     "slide_type": "subslide"
    }
   },
   "outputs": [
    {
     "data": {
      "image/jpeg": "[encoded data removed]",
      "text/plain": [
       "<IPython.core.display.Image object>"
      ]
     },
     "execution_count": 244,
     "metadata": {},
     "output_type": "execute_result"
    }
   ],
   "source": [
    "from IPython.display import Image\n",
    "Image(filename='onedoesnotsimply.jpg') "
   ]
  },
  {
   "cell_type": "markdown",
   "metadata": {
    "slideshow": {
     "slide_type": "slide"
    }
   },
   "source": [
    "#Conclusion\n",
    "* 'All models are wrong, some are useful'\n",
    "* Model correctly predicts that Ireland would win 4 games\n",
    "* Model incorrectly predicted that England would come out on top\n",
    "* In reality it was very close\n",
    "* Recommendation: Don't use this model to bet on the Six Nations next years"
   ]
  },
  {
   "cell_type": "markdown",
   "metadata": {
    "collapsed": true,
    "slideshow": {
     "slide_type": "slide"
    }
   },
   "source": [
    "* [Thomas Wiecki Blog on all things Bayesian](https://twiecki.github.io)\n",
    "* Twitter: [@springcoil](https://twitter.com/springcoil)\n",
    "* [Probilistic Programming for Hackers](http://camdavidsonpilon.github.io/Probabilistic-Programming-and-Bayesian-Methods-for-Hackers/) -- IPython Notebook book on Bayesian stats using PyMC2\n",
    "\n",
    "* [Doing Bayesian Data Analysis](http://www.indiana.edu/~kruschke/DoingBayesianDataAnalysis/) -- Great book by Kruschke.\n",
    "* [Get PyMC3 alpha](https://github.com/pymc-devs/pymc/tree/pymc3)\n",
    "* [Zalando Example](http://dataconomy.com/how-zalando-used-bayesian-statistics-to-save-loads-of-money/)"
   ]
  },
  {
   "cell_type": "code",
   "execution_count": 245,
   "metadata": {
    "collapsed": false,
    "slideshow": {
     "slide_type": "slide"
    }
   },
   "outputs": [
    {
     "data": {
      "image/jpeg": "[encoded data removed]",
      "text/plain": [
       "<IPython.core.display.Image object>"
      ]
     },
     "execution_count": 245,
     "metadata": {},
     "output_type": "execute_result"
    }
   ],
   "source": [
    "from IPython.display import Image\n",
    "Image(filename='the-most-interesting-man-in-the-world-meme-generator-i-don-t-give-many-talks-but-when-i-do-i-do-q-a-e38222 copy.jpg') "
   ]
  }
 ],
 "metadata": {
  "celltoolbar": "Slideshow",
  "kernelspec": {
   "display_name": "Python 3",
   "language": "python",
   "name": "python3"
  },
  "language_info": {
   "codemirror_mode": {
    "name": "ipython",
    "version": 3
   },
   "file_extension": ".py",
   "mimetype": "text/x-python",
   "name": "python",
   "nbconvert_exporter": "python",
   "pygments_lexer": "ipython3",
   "version": "3.4.3"
  }
 },
 "nbformat": 4,
 "nbformat_minor": 0
}
