{
 "cells": [
  {
   "cell_type": "markdown",
   "metadata": {
    "slideshow": {
     "slide_type": "slide"
    }
   },
   "source": [
    "# Probabilistic Programming applied to Sports Analytics\n",
    "\n",
    "* I'll discuss what probabilistic programming is, why should you care and how to use PyMC from Python to implement these methods. \n",
    "* I'll be applying these methods to studying the problem of 'rugby sports analytics' particularly how to model the winning team in the recent Six Nations in Rugby. \n",
    "* I will discuss the framework and how I was able to quickly and easily produce an innovative and powerful model as a non-expert.\n"
   ]
  },
  {
   "cell_type": "markdown",
   "metadata": {
    "slideshow": {
     "slide_type": "slide"
    }
   },
   "source": [
    "#Who am I?\n",
    "* I'm a Data Analytics Professional based in Luxembourg\n",
    "* I currently work for Vodafone\n",
    "* My intellectual background is in Physics and Mathematics\n",
    "* I've made open source contributions to Pandas and Probabilistic Programming and Bayesian Methods for Hackers. \n",
    "* I've helped companies solve analytics challenges in Supply Chain Management, Air Traffic Analysis and with Customer Analytics\n",
    "* All opinions are my own!"
   ]
  },
  {
   "cell_type": "markdown",
   "metadata": {
    "slideshow": {
     "slide_type": "slide"
    }
   },
   "source": [
    "#All Sports Commentary!\n",
    "<img src=\"http://imgs.xkcd.com/comics/sports.png\" align=\"middle\">\n",
    "* Attribution: Xkcd"
   ]
  },
  {
   "cell_type": "markdown",
   "metadata": {
    "slideshow": {
     "slide_type": "slide"
    }
   },
   "source": [
    "# How can statistics help with sports?\n",
    "* Well fundamentally a Rugby game is a predictible event.\n",
    "* How do we generate a model to predict the outcome of a tournament?\n",
    "* How do we quantify our uncertainty in our model?\n"
   ]
  },
  {
   "cell_type": "markdown",
   "metadata": {
    "slideshow": {
     "slide_type": "slide"
    }
   },
   "source": [
    "#What influenced me on this?\n",
    "<img src=\"http://blog.quantopian.com/wp-content/uploads/2014/12/GraphicalModel.jpg\">\n",
    "Attribution: Quantopian blog"
   ]
  },
  {
   "cell_type": "markdown",
   "metadata": {
    "slideshow": {
     "slide_type": "slide"
    }
   },
   "source": [
    "#What's wrong with statistics\n",
    "* Models should not be built for mathematical convenience (e.g. normality assumption), but to most accurately model the data.\n",
    "\n",
    "* Pre-specified models, like frequentist statistics, make many assumptions that are all to easily violated.\n",
    "\n"
   ]
  },
  {
   "cell_type": "markdown",
   "metadata": {
    "slideshow": {
     "slide_type": "slide"
    }
   },
   "source": [
    "#\"The purpose of computation is insight, not numbers.\" -- Richard Hamming"
   ]
  },
  {
   "cell_type": "markdown",
   "metadata": {
    "slideshow": {
     "slide_type": "slide"
    }
   },
   "source": [
    "# What is Bayesian Statistics?\n",
    "* At the core: formula to update our beliefs after having observed data (Bayes formula)\n",
    "* Implies that we have a prior belief about the world.\n",
    "* Updated beliefs after observing data is called posterior.\n",
    "* Beliefs are represented using random variables."
   ]
  },
  {
   "cell_type": "markdown",
   "metadata": {
    "slideshow": {
     "slide_type": "slide"
    }
   },
   "source": [
    "# So what problem could I apply Bayesian models to?\n",
    "* Rugby Analysis!\n",
    "<img src=\"http://the-office-bar.eu/files/2013/06/Rugby-ball.jpg\", width=\"50%\" height=\"50%\"/>\n",
    "Attribution: The-office-bar.eu"
   ]
  },
  {
   "cell_type": "markdown",
   "metadata": {
    "slideshow": {
     "slide_type": "slide"
    }
   },
   "source": [
    "#Bayesian Rugby\n",
    " I came across the following blog post on http://danielweitzenfeld.github.io/passtheroc/blog/2014/10/28/bayes-premier-league/ \n",
    "\n",
    "\n",
    "\n",
    "* Based on the work of [Baio and Blangiardo](http://www.statistica.it/gianluca/Research/BaioBlangiardo.pdf)\n"
   ]
  },
  {
   "cell_type": "markdown",
   "metadata": {
    "slideshow": {
     "slide_type": "subslide"
    }
   },
   "source": [
    "* In this talk, I'm going to reproduce the first model described in the paper using pymc.\n",
    "* Since I am a rugby fan I decide to apply the results of the paper Bayesian Football to the Six Nations.\n"
   ]
  },
  {
   "cell_type": "markdown",
   "metadata": {
    "slideshow": {
     "slide_type": "slide"
    }
   },
   "source": [
    "#So why Bayesians?\n",
    "* Probabilistic Programming is a new paradigm.\n",
    "* Attributions: My friend Thomas Wiecki influenced a lot of my thinking on this.\n",
    "* I'm going to compare Blackbox Machine Learning with scikit-learn"
   ]
  },
  {
   "cell_type": "markdown",
   "metadata": {
    "slideshow": {
     "slide_type": "slide"
    }
   },
   "source": [
    "<img src='https://raw.githubusercontent.com/twiecki/pymc3_talk/master/blackbox.png'>\n",
    "\n",
    "* Source: <a href='https://speakerdeck.com/ogrisel/trends-in-machine-learning'>Olivier Grisel's talk on ML</a>\n"
   ]
  },
  {
   "cell_type": "markdown",
   "metadata": {
    "slideshow": {
     "slide_type": "slide"
    }
   },
   "source": [
    "# Limitations of Machine learning\n",
    "* A big limitation of Machine Learning is that most of the models are black boxes.\n"
   ]
  },
  {
   "cell_type": "markdown",
   "metadata": {
    "slideshow": {
     "slide_type": "slide"
    }
   },
   "source": [
    "\n",
    "<img src='https://raw.githubusercontent.com/twiecki/pymc3_talk/master/openbox.png'>\n",
    "\n",
    "Source: <a href='https://speakerdeck.com/ogrisel/trends-in-machine-learning'>Olivier Grisel's talk on ML</a>"
   ]
  },
  {
   "cell_type": "markdown",
   "metadata": {
    "slideshow": {
     "slide_type": "slide"
    }
   },
   "source": [
    "# Probabilistic Programming - what's the big deal?\n",
    "* We are able to use data and our prior beliefs to generate a model. \n",
    "* Generating a model is extremely powerful\n",
    "* In frequentist statistics we often assume that n is equal to infinity\n",
    "* But we know that in reality $n \\neq \\infty$!"
   ]
  },
  {
   "cell_type": "code",
   "execution_count": 2,
   "metadata": {
    "collapsed": false,
    "slideshow": {
     "slide_type": "skip"
    }
   },
   "outputs": [],
   "source": [
    "import os\n",
    "import math\n",
    "import warnings\n",
    "import numpy as np\n",
    "import pandas as pd\n",
    "import matplotlib.pyplot as plt\n",
    "import pymc # I know folks are switching to \"as pm\" but I'm just not there yet\n",
    "%matplotlib inline\n",
    "import seaborn as sns"
   ]
  },
  {
   "cell_type": "markdown",
   "metadata": {
    "slideshow": {
     "slide_type": "slide"
    }
   },
   "source": [
    "# Six Nations Rugby\n",
    "* Rugby is a physical sport popular worldwide.\n",
    "* Six Nations consists of Italy, Ireland, Scotland, England, France and Wales\n",
    "* Game consists of scoring tries (similar to touch downs) or kicking the goal.\n",
    "* Average player is something like 100kg and 1.82m tall.\n",
    "* Paul O'Connell the Irish captain is Height: 6' 6\" (1.98 m) Weight: 243 lbs (110 kg)\n"
   ]
  },
  {
   "cell_type": "markdown",
   "metadata": {
    "slideshow": {
     "slide_type": "slide"
    }
   },
   "source": [
    "#They compete for the Six Nations tournament trophy \n",
    "* Significant this year because the World Cup occurs in 2015.\n",
    "<img src=\"http://www.hostelrome.com/wp-content/uploads/2015/01/Rugby_Sei-Nazioni-Uomini.jpg\">\n",
    "* Photo: Hostelrome"
   ]
  },
  {
   "cell_type": "markdown",
   "metadata": {
    "slideshow": {
     "slide_type": "slide"
    }
   },
   "source": [
    "## Motivation\n",
    "\n",
    "\n",
    "* Someone in the Sports Analytics community made the point \n",
    "(I'm paraphrasing here) that your estimate of one team's \n",
    " strength depends on your estimate of all the others. \n",
    " The conclusions you draw from team X beating team Y depends how strong team \n",
    " Y is, which in turn depends on the conclusions you draw from team Y's other games, which in turn depends on how strong Y's opponents were, etc.\n",
    "* Ireland are a stronger team than Italy for example - but by how much?\n",
    "* Source for Results 2014 are Wikipedia. \n",
    "* I handcrafted these results"
   ]
  },
  {
   "cell_type": "code",
   "execution_count": 3,
   "metadata": {
    "collapsed": true,
    "slideshow": {
     "slide_type": "skip"
    }
   },
   "outputs": [],
   "source": [
    "DATA_DIR = os.path.join(os.getcwd(), 'data/')"
   ]
  },
  {
   "cell_type": "code",
   "execution_count": 4,
   "metadata": {
    "collapsed": false,
    "slideshow": {
     "slide_type": "subslide"
    }
   },
   "outputs": [
    {
     "data": {
      "text/html": [
       "<div style=\"max-height:1000px;max-width:1500px;overflow:auto;\">\n",
       "<table border=\"1\" class=\"dataframe\">\n",
       "  <thead>\n",
       "    <tr style=\"text-align: right;\">\n",
       "      <th></th>\n",
       "      <th>home_team</th>\n",
       "      <th>away_team</th>\n",
       "      <th>home_score</th>\n",
       "      <th>away_score</th>\n",
       "    </tr>\n",
       "  </thead>\n",
       "  <tbody>\n",
       "    <tr>\n",
       "      <th>10</th>\n",
       "      <td>Scotland</td>\n",
       "      <td>France</td>\n",
       "      <td>17</td>\n",
       "      <td>19</td>\n",
       "    </tr>\n",
       "    <tr>\n",
       "      <th>11</th>\n",
       "      <td>England</td>\n",
       "      <td>Wales</td>\n",
       "      <td>29</td>\n",
       "      <td>18</td>\n",
       "    </tr>\n",
       "    <tr>\n",
       "      <th>12</th>\n",
       "      <td>Italy</td>\n",
       "      <td>England</td>\n",
       "      <td>11</td>\n",
       "      <td>52</td>\n",
       "    </tr>\n",
       "    <tr>\n",
       "      <th>13</th>\n",
       "      <td>Wales</td>\n",
       "      <td>Scotland</td>\n",
       "      <td>51</td>\n",
       "      <td>3</td>\n",
       "    </tr>\n",
       "    <tr>\n",
       "      <th>14</th>\n",
       "      <td>France</td>\n",
       "      <td>Ireland</td>\n",
       "      <td>20</td>\n",
       "      <td>22</td>\n",
       "    </tr>\n",
       "  </tbody>\n",
       "</table>\n",
       "</div>"
      ],
      "text/plain": [
       "   home_team away_team  home_score  away_score\n",
       "10  Scotland    France          17          19\n",
       "11   England     Wales          29          18\n",
       "12     Italy   England          11          52\n",
       "13     Wales  Scotland          51           3\n",
       "14    France   Ireland          20          22"
      ]
     },
     "execution_count": 4,
     "metadata": {},
     "output_type": "execute_result"
    }
   ],
   "source": [
    "#The results_2014 is a handcrafted results table from Wikipedia\n",
    "data_file = DATA_DIR + 'results_2014.csv'\n",
    "df = pd.read_csv(data_file, sep=',')\n",
    "df.tail()\n",
    "\n",
    "\n"
   ]
  },
  {
   "cell_type": "code",
   "execution_count": 5,
   "metadata": {
    "collapsed": false,
    "slideshow": {
     "slide_type": "skip"
    }
   },
   "outputs": [
    {
     "data": {
      "text/html": [
       "<div style=\"max-height:1000px;max-width:1500px;overflow:auto;\">\n",
       "<table border=\"1\" class=\"dataframe\">\n",
       "  <thead>\n",
       "    <tr style=\"text-align: right;\">\n",
       "      <th></th>\n",
       "      <th>team</th>\n",
       "      <th>i</th>\n",
       "    </tr>\n",
       "  </thead>\n",
       "  <tbody>\n",
       "    <tr>\n",
       "      <th>0</th>\n",
       "      <td>Wales</td>\n",
       "      <td>0</td>\n",
       "    </tr>\n",
       "    <tr>\n",
       "      <th>1</th>\n",
       "      <td>France</td>\n",
       "      <td>1</td>\n",
       "    </tr>\n",
       "    <tr>\n",
       "      <th>2</th>\n",
       "      <td>Ireland</td>\n",
       "      <td>2</td>\n",
       "    </tr>\n",
       "    <tr>\n",
       "      <th>3</th>\n",
       "      <td>Scotland</td>\n",
       "      <td>3</td>\n",
       "    </tr>\n",
       "    <tr>\n",
       "      <th>4</th>\n",
       "      <td>Italy</td>\n",
       "      <td>4</td>\n",
       "    </tr>\n",
       "  </tbody>\n",
       "</table>\n",
       "</div>"
      ],
      "text/plain": [
       "       team  i\n",
       "0     Wales  0\n",
       "1    France  1\n",
       "2   Ireland  2\n",
       "3  Scotland  3\n",
       "4     Italy  4"
      ]
     },
     "execution_count": 5,
     "metadata": {},
     "output_type": "execute_result"
    }
   ],
   "source": [
    "teams = df.home_team.unique()\n",
    "teams = pd.DataFrame(teams, columns=['team'])\n",
    "teams['i'] = teams.index\n",
    "teams.head()"
   ]
  },
  {
   "cell_type": "markdown",
   "metadata": {
    "slideshow": {
     "slide_type": "slide"
    }
   },
   "source": [
    "* Now we need to do some merging and munging"
   ]
  },
  {
   "cell_type": "code",
   "execution_count": 6,
   "metadata": {
    "collapsed": false,
    "slideshow": {
     "slide_type": "subslide"
    }
   },
   "outputs": [
    {
     "data": {
      "text/html": [
       "<div style=\"max-height:1000px;max-width:1500px;overflow:auto;\">\n",
       "<table border=\"1\" class=\"dataframe\">\n",
       "  <thead>\n",
       "    <tr style=\"text-align: right;\">\n",
       "      <th></th>\n",
       "      <th>home_team</th>\n",
       "      <th>away_team</th>\n",
       "      <th>home_score</th>\n",
       "      <th>away_score</th>\n",
       "      <th>i_home</th>\n",
       "      <th>i_away</th>\n",
       "    </tr>\n",
       "  </thead>\n",
       "  <tbody>\n",
       "    <tr>\n",
       "      <th>0</th>\n",
       "      <td>Wales</td>\n",
       "      <td>Italy</td>\n",
       "      <td>23</td>\n",
       "      <td>15</td>\n",
       "      <td>0</td>\n",
       "      <td>4</td>\n",
       "    </tr>\n",
       "    <tr>\n",
       "      <th>1</th>\n",
       "      <td>France</td>\n",
       "      <td>England</td>\n",
       "      <td>26</td>\n",
       "      <td>24</td>\n",
       "      <td>1</td>\n",
       "      <td>5</td>\n",
       "    </tr>\n",
       "    <tr>\n",
       "      <th>2</th>\n",
       "      <td>Ireland</td>\n",
       "      <td>Scotland</td>\n",
       "      <td>28</td>\n",
       "      <td>6</td>\n",
       "      <td>2</td>\n",
       "      <td>3</td>\n",
       "    </tr>\n",
       "    <tr>\n",
       "      <th>3</th>\n",
       "      <td>Ireland</td>\n",
       "      <td>Wales</td>\n",
       "      <td>26</td>\n",
       "      <td>3</td>\n",
       "      <td>2</td>\n",
       "      <td>0</td>\n",
       "    </tr>\n",
       "    <tr>\n",
       "      <th>4</th>\n",
       "      <td>Scotland</td>\n",
       "      <td>England</td>\n",
       "      <td>0</td>\n",
       "      <td>20</td>\n",
       "      <td>3</td>\n",
       "      <td>5</td>\n",
       "    </tr>\n",
       "  </tbody>\n",
       "</table>\n",
       "</div>"
      ],
      "text/plain": [
       "  home_team away_team  home_score  away_score  i_home  i_away\n",
       "0     Wales     Italy          23          15       0       4\n",
       "1    France   England          26          24       1       5\n",
       "2   Ireland  Scotland          28           6       2       3\n",
       "3   Ireland     Wales          26           3       2       0\n",
       "4  Scotland   England           0          20       3       5"
      ]
     },
     "execution_count": 6,
     "metadata": {},
     "output_type": "execute_result"
    }
   ],
   "source": [
    "df = pd.merge(df, teams, left_on='home_team', right_on='team', how='left')\n",
    "df = df.rename(columns = {'i': 'i_home'}).drop('team', 1)\n",
    "df = pd.merge(df, teams, left_on='away_team', right_on='team', how='left')\n",
    "df = df.rename(columns = {'i': 'i_away'}).drop('team', 1)\n",
    "df.head()"
   ]
  },
  {
   "cell_type": "code",
   "execution_count": 7,
   "metadata": {
    "collapsed": false,
    "slideshow": {
     "slide_type": "skip"
    }
   },
   "outputs": [],
   "source": [
    "observed_home_goals = df.home_score.values\n",
    "observed_away_goals = df.away_score.values\n",
    "home_team = df.i_home.values\n",
    "away_team = df.i_away.values\n",
    "num_teams = len(df.i_home.drop_duplicates())\n",
    "num_games = len(home_team)\n"
   ]
  },
  {
   "cell_type": "markdown",
   "metadata": {
    "slideshow": {
     "slide_type": "slide"
    }
   },
   "source": [
    "Now we need to prepare the model for PyMC."
   ]
  },
  {
   "cell_type": "code",
   "execution_count": 8,
   "metadata": {
    "collapsed": true
   },
   "outputs": [],
   "source": [
    "g = df.groupby('i_away')\n",
    "att_starting_points = np.log(g.away_score.mean())\n",
    "g = df.groupby('i_home')\n",
    "def_starting_points = -np.log(g.away_score.mean())"
   ]
  },
  {
   "cell_type": "markdown",
   "metadata": {
    "slideshow": {
     "slide_type": "slide"
    }
   },
   "source": [
    "# What do we want to infer?\n",
    "* We want to infer the latent paremeters (every team's strength) that are generating the data we observe (the scorelines). \n",
    "* Moreover, we know that the scorelines are a noisy measurement of team strength, so ideally, we want a model that makes it easy to quantify our uncertainty about the underlying strengths.\n",
    "\n"
   ]
  },
  {
   "cell_type": "markdown",
   "metadata": {
    "slideshow": {
     "slide_type": "slide"
    }
   },
   "source": [
    "# While my MCMC gently samples\n",
    "* Often we don't know what the Bayesian Model is explicitly, so we have to 'estimate' the Bayesian Model'\n",
    "* If we can't solve something, approximate it.\n",
    "* Markov-Chain Monte Carlo (MCMC) instead draws samples from the posterior.\n",
    "* Fortunately, this algorithm can be applied to almost any model.\n",
    "* Hattip: @twiecki"
   ]
  },
  {
   "cell_type": "markdown",
   "metadata": {
    "slideshow": {
     "slide_type": "subslide"
    }
   },
   "source": [
    "# What do we want?\n",
    "* We want to quantify our uncertainty\n",
    "* We want to also use this to generate a model\n",
    "* We want the answers as distributions *not* point estimates"
   ]
  },
  {
   "cell_type": "markdown",
   "metadata": {
    "slideshow": {
     "slide_type": "slide"
    }
   },
   "source": [
    "# What assumptions do we know for our 'generative story'?\n",
    "* We know that the Six Nations in Rugby only has 6 teams.\n",
    "* We have data from last year!\n",
    "* We also know that in sports scoring is modelled as a Poisson distribution\n",
    "<img src=\"http://upload.wikimedia.org/wikipedia/commons/1/16/Poisson_pmf.svg\">\n",
    "* Attribution: *Wikipedia*"
   ]
  },
  {
   "cell_type": "markdown",
   "metadata": {
    "slideshow": {
     "slide_type": "slide"
    }
   },
   "source": [
    "#The model.\n",
    "<p>The league is made up by a total of T= 6 teams, playing each other once \n",
    "in a season. We indicate the number of points scored by the home and the away team in the g-th game of the season (15 games) as $y_{g1}$ and $y_{g2}$ respectively. </p>\n",
    "<p>The vector of observed counts $\\mathbb{y} = (y_{g1}, y_{g2})$ is modelled as independent Poisson:\n",
    "$y_{gi}| \\theta_{gj} \\tilde\\;\\;  Poisson(\\theta_{gj})$\n",
    "where the theta parameters represent the scoring intensity in the g-th game for the team playing at home (j=1) and away (j=2), respectively.</p>\n",
    "\n",
    "\n"
   ]
  },
  {
   "cell_type": "markdown",
   "metadata": {
    "slideshow": {
     "slide_type": "slide"
    }
   },
   "source": [
    "<p>We model these parameters according to a formulation that has been used widely in the statistical literature, assuming a log-linear random effect model:\n",
    "$$log \\theta_{g1} = home + att_{h(g)} + def_{a(g)} $$\n",
    "$$log \\theta_{g2} = att_{a(g)} + def_{h(g)}$$\n",
    "the parameter home represents the advantage for the team hosting the game\n",
    "and we assume that this effect is constant for all the teams and\n",
    "throughout the season. \n",
    "\n"
   ]
  },
  {
   "cell_type": "markdown",
   "metadata": {
    "slideshow": {
     "slide_type": "subslide"
    }
   },
   "source": [
    "* Key assumption home effect is an advantage in Sports\n",
    "* We know these things empirically from our 'domain specific' knowledge\n",
    "* Bayesian Models allow you to incorporate *beliefs* or *knowledge* into your model!\n"
   ]
  },
  {
   "cell_type": "markdown",
   "metadata": {
    "slideshow": {
     "slide_type": "notes"
    }
   },
   "source": [
    "In addition, the scoring intensity is \n",
    "determined jointly by the attack\n",
    "and defense ability of the two teams involved, represented by the parameters att and def, respectively.\n",
    "In line with the Bayesian approach, we have to specify some suitable prior distributions for all the \n",
    "random parameters in our model. The variable $home$ \n",
    "is modelled as a fixed effect, assuming a standard \n",
    "flat prior distribution. We use the notation of describing the Normal distribution in terms of mean \n",
    "and the precision. \n",
    "$home \\tilde\\; Normal(0,0.0001)$</p>\n",
    "<p>Conversely, for each t = 1, ..., T, the team-specific effects are modelled as exchangeable from a common distribution:\n",
    "$att_t \\tilde\\; Normal(\\mu_{att}, \\tau_{att})$\n",
    "and $def_t \\tilde\\; Normal(\\mu_{def}, \\tau_{def})$</p>\n",
    "<p>Note that they&#39;re breaking out team strength into attacking and defending strength. A negative defense parameter will sap the mojo from the opposing team&#39;s attacking parameter.</p>\n",
    "<p>I made two tweaks to the model. It didn&#39;t make sense to me to have a $\\mu_{att}$ when we&#39;re enforcing the sum-to-zero constraint by subtracting the mean anyway. So I eliminated $\\mu_{att}$ and $\\mu_{def}$</p>\n",
    "<p>Also because of the sum-to-zero constraint, it seemed to me that we needed an intercept term in the log-linear model, capturing the average goals scored per game by the away team.\n",
    "This we model with the following hyperprior.\n",
    "$$intercept \\tilde\\; Normal(0, 0.001)$$</p>\n",
    "</div>"
   ]
  },
  {
   "cell_type": "code",
   "execution_count": 9,
   "metadata": {
    "collapsed": false,
    "slideshow": {
     "slide_type": "skip"
    }
   },
   "outputs": [],
   "source": [
    "#hyperpriors\n",
    "home = pymc.Normal('home', 0, .0001, value=0)\n",
    "tau_att = pymc.Gamma('tau_att', .1, .1, value=10)\n",
    "tau_def = pymc.Gamma('tau_def', .1, .1, value=10)\n",
    "intercept = pymc.Normal('intercept', 0, .0001, value=0)\n",
    "#team-specific parameters\n",
    "atts_star = pymc.Normal(\"atts_star\", \n",
    "                        mu=0, \n",
    "                        tau=tau_att, \n",
    "                        size=num_teams, \n",
    "                        value=att_starting_points.values)\n",
    "defs_star = pymc.Normal(\"defs_star\", \n",
    "                        mu=0, \n",
    "                        tau=tau_def, \n",
    "                        size=num_teams, \n",
    "                        value=def_starting_points.values) \n",
    "# trick to code the sum to zero constraint\n",
    "@pymc.deterministic\n",
    "def atts(atts_star=atts_star):\n",
    "    atts = atts_star.copy()\n",
    "    atts = atts - np.mean(atts_star)\n",
    "    return atts\n",
    "\n",
    "@pymc.deterministic\n",
    "def defs(defs_star=defs_star):\n",
    "    defs = defs_star.copy()\n",
    "    defs = defs - np.mean(defs_star)\n",
    "    return defs\n",
    "\n",
    "@pymc.deterministic\n",
    "def home_theta(home_team=home_team, \n",
    "               away_team=away_team, \n",
    "               home=home, \n",
    "               atts=atts, \n",
    "               defs=defs, \n",
    "               intercept=intercept): \n",
    "    return np.exp(intercept + \n",
    "                  home + \n",
    "                  atts[home_team] + \n",
    "                  defs[away_team])\n",
    "  \n",
    "@pymc.deterministic\n",
    "def away_theta(home_team=home_team, \n",
    "               away_team=away_team, \n",
    "               home=home, \n",
    "               atts=atts, \n",
    "               defs=defs, \n",
    "               intercept=intercept): \n",
    "    return np.exp(intercept + \n",
    "                  atts[away_team] + \n",
    "                  defs[home_team])   \n",
    "\n",
    "\n"
   ]
  },
  {
   "cell_type": "markdown",
   "metadata": {
    "slideshow": {
     "slide_type": "subslide"
    }
   },
   "source": [
    "# Let us run the model!\n",
    "* We specify the priors as Gamma distributions\n",
    "\n"
   ]
  },
  {
   "cell_type": "code",
   "execution_count": 10,
   "metadata": {
    "collapsed": false,
    "slideshow": {
     "slide_type": "subslide"
    }
   },
   "outputs": [
    {
     "name": "stdout",
     "output_type": "stream",
     "text": [
      " [-----------------100%-----------------] 200000 of 200000 complete in 73.8 sec"
     ]
    }
   ],
   "source": [
    "home_points = pymc.Poisson('home_points', \n",
    "                          mu=home_theta, \n",
    "                          value=observed_home_goals, \n",
    "                          observed=True)\n",
    "away_points = pymc.Poisson('away_points', \n",
    "                          mu=away_theta, \n",
    "                          value=observed_away_goals, \n",
    "                          observed=True)\n",
    "\n",
    "mcmc = pymc.MCMC([home, intercept, tau_att, tau_def, \n",
    "                  home_theta, away_theta, \n",
    "                  atts_star, defs_star, atts, defs, \n",
    "                  home_points, away_points])\n",
    "map_ = pymc.MAP( mcmc )\n",
    "map_.fit()\n",
    "\n",
    "mcmc.sample(200000, 40000, 20)"
   ]
  },
  {
   "cell_type": "markdown",
   "metadata": {
    "slideshow": {
     "slide_type": "slide"
    }
   },
   "source": [
    "#Diagnostics\n",
    "Let's see if/how the model converged. \n",
    "The home parameter looks good, and indicates that home field advantage amounts to goals per game at the intercept.\n",
    "We can see that it converges just like the model for the Premier League in the other tutorial.\n",
    "I wonder and this is left as a question if all field sports have models of this form that converge."
   ]
  },
  {
   "cell_type": "code",
   "execution_count": 11,
   "metadata": {
    "collapsed": false,
    "slideshow": {
     "slide_type": "subslide"
    }
   },
   "outputs": [
    {
     "name": "stdout",
     "output_type": "stream",
     "text": [
      "Plotting home\n"
     ]
    },
    {
     "data": {
      "image/png": "[encoded data removed]",
      "text/plain": [
       "<matplotlib.figure.Figure at 0x1103dd208>"
      ]
     },
     "metadata": {},
     "output_type": "display_data"
    }
   ],
   "source": [
    "pymc.Matplot.plot(home)"
   ]
  },
  {
   "cell_type": "markdown",
   "metadata": {
    "slideshow": {
     "slide_type": "slide"
    }
   },
   "source": [
    "\n",
    "* We can see in this analysis that home advantage gives about 0.55 points advantage.\n",
    "* We also see not too much auto-correlation, so this looks quite good plot wise.\n",
    "* We see here how *probabilistic programming* allows us to quantify our uncertainty about certain parameters.\n"
   ]
  },
  {
   "cell_type": "code",
   "execution_count": 12,
   "metadata": {
    "collapsed": false,
    "slideshow": {
     "slide_type": "slide"
    }
   },
   "outputs": [
    {
     "name": "stdout",
     "output_type": "stream",
     "text": [
      "Plotting atts_0\n",
      "Plotting atts_1\n",
      "Plotting atts_2\n",
      "Plotting atts_3\n",
      "Plotting atts_4\n",
      "Plotting atts_5\n"
     ]
    },
    {
     "data": {
      "image/png": "[encoded data removed]",
      "text/plain": [
       "<matplotlib.figure.Figure at 0x1109878d0>"
      ]
     },
     "metadata": {},
     "output_type": "display_data"
    },
    {
     "data": {
      "image/png": "[encoded data removed]",
      "text/plain": [
       "<matplotlib.figure.Figure at 0x111e777b8>"
      ]
     },
     "metadata": {},
     "output_type": "display_data"
    }
   ],
   "source": [
    "pymc.Matplot.plot(atts)\n",
    "# We can plot all of the parameters, just to see. "
   ]
  },
  {
   "cell_type": "markdown",
   "metadata": {
    "slideshow": {
     "slide_type": "slide"
    }
   },
   "source": [
    "#Simulating a season\n",
    "We would like to now simulate a season. Just to see what happens. "
   ]
  },
  {
   "cell_type": "code",
   "execution_count": 13,
   "metadata": {
    "collapsed": true,
    "slideshow": {
     "slide_type": "skip"
    }
   },
   "outputs": [],
   "source": [
    "def simulate_season():\n",
    "    \"\"\"\n",
    "    Simulate a season once, using one random draw from the mcmc chain. \n",
    "    \"\"\"\n",
    "    num_samples = atts.trace().shape[0]\n",
    "    draw = np.random.randint(0, num_samples)\n",
    "    atts_draw = pd.DataFrame({'att': atts.trace()[draw, :],})\n",
    "    defs_draw = pd.DataFrame({'def': defs.trace()[draw, :],})\n",
    "    home_draw = home.trace()[draw]\n",
    "    intercept_draw = intercept.trace()[draw]\n",
    "    season = df.copy()\n",
    "    season = pd.merge(season, atts_draw, left_on='i_home', right_index=True)\n",
    "    season = pd.merge(season, defs_draw, left_on='i_home', right_index=True)\n",
    "    season = season.rename(columns = {'att': 'att_home', 'def': 'def_home'})\n",
    "    season = pd.merge(season, atts_draw, left_on='i_away', right_index=True)\n",
    "    season = pd.merge(season, defs_draw, left_on='i_away', right_index=True)\n",
    "    season = season.rename(columns = {'att': 'att_away', 'def': 'def_away'})\n",
    "    season['home'] = home_draw\n",
    "    season['intercept'] = intercept_draw\n",
    "    season['home_theta'] = season.apply(lambda x: math.exp(x['intercept'] + \n",
    "                                                           x['home'] + \n",
    "                                                           x['att_home'] + \n",
    "                                                           x['def_away']), axis=1)\n",
    "    season['away_theta'] = season.apply(lambda x: math.exp(x['intercept'] + \n",
    "                                                           x['att_away'] + \n",
    "                                                           x['def_home']), axis=1)\n",
    "    season['home_goals'] = season.apply(lambda x: np.random.poisson(x['home_theta']), axis=1)\n",
    "    season['away_goals'] = season.apply(lambda x: np.random.poisson(x['away_theta']), axis=1)\n",
    "    season['home_outcome'] = season.apply(lambda x: 'win' if x['home_goals'] > x['away_goals'] else \n",
    "                                                    'loss' if x['home_goals'] < x['away_goals'] else 'draw', axis=1)\n",
    "    season['away_outcome'] = season.apply(lambda x: 'win' if x['home_goals'] < x['away_goals'] else \n",
    "                                                    'loss' if x['home_goals'] > x['away_goals'] else 'draw', axis=1)\n",
    "    season = season.join(pd.get_dummies(season.home_outcome, prefix='home'))\n",
    "    season = season.join(pd.get_dummies(season.away_outcome, prefix='away'))\n",
    "    return season\n",
    "\n",
    "\n",
    "def create_season_table(season):\n",
    "    \"\"\"\n",
    "    Using a season dataframe output by simulate_season(), create a summary dataframe with wins, losses, goals for, etc.\n",
    "    \n",
    "    \"\"\"\n",
    "    g = season.groupby('i_home')    \n",
    "    home = pd.DataFrame({'home_goals': g.home_goals.sum(),\n",
    "                         'home_goals_against': g.away_goals.sum(),\n",
    "                         'home_wins': g.home_win.sum(),\n",
    "                         'home_losses': g.home_loss.sum()\n",
    "                         })\n",
    "    g = season.groupby('i_away')    \n",
    "    away = pd.DataFrame({'away_goals': g.away_goals.sum(),\n",
    "                         'away_goals_against': g.home_goals.sum(),\n",
    "                         'away_wins': g.away_win.sum(),\n",
    "                         'away_losses': g.away_loss.sum()\n",
    "                         })\n",
    "    df = home.join(away)\n",
    "    df['wins'] = df.home_wins + df.away_wins\n",
    "    df['losses'] = df.home_losses + df.away_losses\n",
    "    df['points'] = df.wins * 2\n",
    "    df['gf'] = df.home_goals + df.away_goals\n",
    "    df['ga'] = df.home_goals_against + df.away_goals_against\n",
    "    df['gd'] = df.gf - df.ga\n",
    "    df = pd.merge(teams, df, left_on='i', right_index=True)\n",
    "    df = df.sort_index(by='points', ascending=False)\n",
    "    df = df.reset_index()\n",
    "    df['position'] = df.index + 1\n",
    "    df['champion'] = (df.position == 1).astype(int)\n",
    "    df['relegated'] = (df.position > 5).astype(int)\n",
    "    return df  \n",
    "    \n",
    "def simulate_seasons(n=100):\n",
    "    dfs = []\n",
    "    for i in range(n):\n",
    "        s = simulate_season()\n",
    "        t = create_season_table(s)\n",
    "        t['iteration'] = i\n",
    "        dfs.append(t)\n",
    "    return pd.concat(dfs, ignore_index=True)"
   ]
  },
  {
   "cell_type": "markdown",
   "metadata": {
    "slideshow": {
     "slide_type": "slide"
    }
   },
   "source": [
    "# Simulation\n",
    "* We are going to simulate 1000 seasons\n"
   ]
  },
  {
   "cell_type": "code",
   "execution_count": 14,
   "metadata": {
    "collapsed": false,
    "slideshow": {
     "slide_type": "subslide"
    }
   },
   "outputs": [],
   "source": [
    "simuls = simulate_seasons(1000)"
   ]
  },
  {
   "cell_type": "code",
   "execution_count": 15,
   "metadata": {
    "collapsed": false,
    "slideshow": {
     "slide_type": "subslide"
    }
   },
   "outputs": [
    {
     "data": {
      "text/plain": [
       "<matplotlib.text.Annotation at 0x11093a898>"
      ]
     },
     "execution_count": 15,
     "metadata": {},
     "output_type": "execute_result"
    },
    {
     "data": {
      "image/png": "[encoded data removed]",
      "text/plain": [
       "<matplotlib.figure.Figure at 0x112a071d0>"
      ]
     },
     "metadata": {},
     "output_type": "display_data"
    }
   ],
   "source": [
    "ax = simuls.points[simuls.team == 'Ireland'].hist(figsize=(7,5))\n",
    "median = simuls.points[simuls.team == 'Ireland'].median()\n",
    "ax.set_title('Ireland: 2015 points, 1000 simulations')\n",
    "ax.plot([median, median], ax.get_ylim())\n",
    "plt.annotate('Median: %s' % median, xy=(median + 1, ax.get_ylim()[1]-10))"
   ]
  },
  {
   "cell_type": "markdown",
   "metadata": {
    "slideshow": {
     "slide_type": "slide"
    }
   },
   "source": [
    "* So what have we learned so far, we've got 1000 simulations of Ireland and their median points in the table is 8.\n",
    "* In Rugby you get 2 points per win, and there are 5 games per year. So this model predicted that Ireland would win most of the time 4 games.\n"
   ]
  },
  {
   "cell_type": "code",
   "execution_count": 16,
   "metadata": {
    "collapsed": false,
    "slideshow": {
     "slide_type": "slide"
    }
   },
   "outputs": [
    {
     "data": {
      "text/plain": [
       "<matplotlib.text.Annotation at 0x111f6fdd8>"
      ]
     },
     "execution_count": 16,
     "metadata": {},
     "output_type": "execute_result"
    },
    {
     "data": {
      "image/png": "[encoded data removed]",
      "text/plain": [
       "<matplotlib.figure.Figure at 0x1129ca940>"
      ]
     },
     "metadata": {},
     "output_type": "display_data"
    }
   ],
   "source": [
    "ax = simuls.gf[simuls.team == 'Ireland'].hist(figsize=(7,5))\n",
    "median = simuls.gf[simuls.team == 'Ireland'].median()\n",
    "ax.set_title('Ireland: 2015 scores for, 1000 simulations')\n",
    "ax.plot([median, median], ax.get_ylim())\n",
    "plt.annotate('Median: %s' % median, xy=(median + 1, ax.get_ylim()[1]-10))"
   ]
  },
  {
   "cell_type": "markdown",
   "metadata": {
    "slideshow": {
     "slide_type": "slide"
    }
   },
   "source": [
    "#What happened in reality?\n",
    "* Well Ireland actually scored 119 points, so the model over predicted this!\n",
    "* We call this 'shrinkage' in the literature. \n",
    "* All models are wrong, but some are useful"
   ]
  },
  {
   "cell_type": "markdown",
   "metadata": {
    "slideshow": {
     "slide_type": "slide"
    }
   },
   "source": [
    "# What are the predictions of the model?\n",
    "* So let us look at the winning team on average.\n",
    "* We do a simulation and we'll assign probability of 'winning' to the team\n",
    "* We used the MCMC to do this.\n"
   ]
  },
  {
   "cell_type": "code",
   "execution_count": 17,
   "metadata": {
    "collapsed": true,
    "slideshow": {
     "slide_type": "skip"
    }
   },
   "outputs": [],
   "source": [
    "g = simuls.groupby('team')\n",
    "df_champs = pd.DataFrame({'percent_champs': g.champion.mean()})\n",
    "df_champs = df_champs.sort_index(by='percent_champs')\n",
    "df_champs = df_champs[df_champs.percent_champs > .05]\n",
    "df_champs = df_champs.reset_index()"
   ]
  },
  {
   "cell_type": "code",
   "execution_count": 18,
   "metadata": {
    "collapsed": false,
    "slideshow": {
     "slide_type": "slide"
    }
   },
   "outputs": [
    {
     "data": {
      "image/png": "[encoded data removed]",
      "text/plain": [
       "<matplotlib.figure.Figure at 0x111bd6a90>"
      ]
     },
     "metadata": {},
     "output_type": "display_data"
    }
   ],
   "source": [
    "\n",
    "fig, ax = plt.subplots(figsize=(8,6))\n",
    "ax.barh(df_champs.index.values, df_champs.percent_champs.values)\n",
    "\n",
    "for i, row in df_champs.iterrows():\n",
    "    label = \"{0:.1f}%\".format(100 * row['percent_champs'])\n",
    "    ax.annotate(label, xy=(row['percent_champs'], i), xytext = (3, 10), textcoords = 'offset points')\n",
    "ax.set_ylabel('Team')\n",
    "ax.set_title('% of Simulated Seasons In Which Team Finished Winners')\n",
    "_= ax.set_yticks(df_champs.index + .5)\n",
    "_= ax.set_yticklabels(df_champs['team'].values)"
   ]
  },
  {
   "cell_type": "markdown",
   "metadata": {
    "slideshow": {
     "slide_type": "slide"
    }
   },
   "source": [
    "Unfortunately it seems that in most of the Universes England come top of the Six Nations. And as an Irish man this is firm proof that I put Mathematical rigour before patriotism :)\n",
    "This is a reasonable result, and I hope it proved a nice example of Bayesian models in Rugby Analytics."
   ]
  },
  {
   "cell_type": "markdown",
   "metadata": {
    "slideshow": {
     "slide_type": "slide"
    }
   },
   "source": [
    "# What actually happened\n",
    "We need to investigate like 'scientists' what actually happened.\n"
   ]
  },
  {
   "cell_type": "code",
   "execution_count": 29,
   "metadata": {
    "collapsed": false,
    "slideshow": {
     "slide_type": "subslide"
    }
   },
   "outputs": [
    {
     "data": {
      "text/html": [
       "<div style=\"max-height:1000px;max-width:1500px;overflow:auto;\">\n",
       "<table border=\"1\" class=\"dataframe\">\n",
       "  <thead>\n",
       "    <tr style=\"text-align: right;\">\n",
       "      <th></th>\n",
       "      <th>Rank</th>\n",
       "      <th>Team</th>\n",
       "      <th>Games</th>\n",
       "      <th>Wins</th>\n",
       "      <th>Draws</th>\n",
       "      <th>Losses</th>\n",
       "      <th>Points_For</th>\n",
       "      <th>Points_Against</th>\n",
       "      <th>Points</th>\n",
       "    </tr>\n",
       "  </thead>\n",
       "  <tbody>\n",
       "    <tr>\n",
       "      <th>0</th>\n",
       "      <td>1</td>\n",
       "      <td>Ireland</td>\n",
       "      <td>5</td>\n",
       "      <td>4</td>\n",
       "      <td>0</td>\n",
       "      <td>1</td>\n",
       "      <td>119</td>\n",
       "      <td>56</td>\n",
       "      <td>8</td>\n",
       "    </tr>\n",
       "    <tr>\n",
       "      <th>1</th>\n",
       "      <td>2</td>\n",
       "      <td>England</td>\n",
       "      <td>5</td>\n",
       "      <td>4</td>\n",
       "      <td>0</td>\n",
       "      <td>1</td>\n",
       "      <td>157</td>\n",
       "      <td>100</td>\n",
       "      <td>8</td>\n",
       "    </tr>\n",
       "    <tr>\n",
       "      <th>2</th>\n",
       "      <td>3</td>\n",
       "      <td>Wales</td>\n",
       "      <td>5</td>\n",
       "      <td>4</td>\n",
       "      <td>0</td>\n",
       "      <td>1</td>\n",
       "      <td>146</td>\n",
       "      <td>93</td>\n",
       "      <td>8</td>\n",
       "    </tr>\n",
       "    <tr>\n",
       "      <th>3</th>\n",
       "      <td>4</td>\n",
       "      <td>France</td>\n",
       "      <td>5</td>\n",
       "      <td>2</td>\n",
       "      <td>0</td>\n",
       "      <td>3</td>\n",
       "      <td>103</td>\n",
       "      <td>101</td>\n",
       "      <td>4</td>\n",
       "    </tr>\n",
       "    <tr>\n",
       "      <th>4</th>\n",
       "      <td>5</td>\n",
       "      <td>Italy</td>\n",
       "      <td>5</td>\n",
       "      <td>1</td>\n",
       "      <td>0</td>\n",
       "      <td>4</td>\n",
       "      <td>62</td>\n",
       "      <td>182</td>\n",
       "      <td>2</td>\n",
       "    </tr>\n",
       "    <tr>\n",
       "      <th>5</th>\n",
       "      <td>6</td>\n",
       "      <td>Scotland</td>\n",
       "      <td>5</td>\n",
       "      <td>0</td>\n",
       "      <td>0</td>\n",
       "      <td>5</td>\n",
       "      <td>73</td>\n",
       "      <td>128</td>\n",
       "      <td>0</td>\n",
       "    </tr>\n",
       "  </tbody>\n",
       "</table>\n",
       "</div>"
      ],
      "text/plain": [
       "   Rank      Team  Games  Wins  Draws  Losses  Points_For  Points_Against  \\\n",
       "0     1  Ireland       5     4      0       1         119              56   \n",
       "1     2  England       5     4      0       1         157             100   \n",
       "2     3  Wales         5     4      0       1         146              93   \n",
       "3     4  France        5     2      0       3         103             101   \n",
       "4     5  Italy         5     1      0       4          62             182   \n",
       "5     6  Scotland      5     0      0       5          73             128   \n",
       "\n",
       "   Points  \n",
       "0       8  \n",
       "1       8  \n",
       "2       8  \n",
       "3       4  \n",
       "4       2  \n",
       "5       0  "
      ]
     },
     "execution_count": 29,
     "metadata": {},
     "output_type": "execute_result"
    }
   ],
   "source": [
    "pd.read_csv('data/results_2015.csv', sep='\\t', header=0, \n",
    "            names =['Rank','Team','Games','Wins','Draws',\n",
    "                    'Losses','Points_For','Points_Against','Points'])"
   ]
  },
  {
   "cell_type": "markdown",
   "metadata": {
    "slideshow": {
     "slide_type": "subslide"
    }
   },
   "source": [
    "#Conclusion\n",
    "* 'All models are wrong, some are useful'\n",
    "* Model correctly predicts that Ireland would win 4 games\n",
    "* Model incorrectly predicted that England would come out on top\n",
    "* In reality it was very close\n",
    "* Recommendation: Don't use this model to bet on the Six Nations next years"
   ]
  },
  {
   "cell_type": "markdown",
   "metadata": {
    "collapsed": true,
    "slideshow": {
     "slide_type": "slide"
    }
   },
   "source": [
    "* [Thomas Wiecki Blog on all things Bayesian](https://twiecki.github.io)\n",
    "* Twitter: [@springcoil](https://twitter.com/springcoil)\n",
    "* [Probilistic Programming for Hackers](http://camdavidsonpilon.github.io/Probabilistic-Programming-and-Bayesian-Methods-for-Hackers/) -- IPython Notebook book on Bayesian stats using PyMC2\n",
    "\n",
    "* [Doing Bayesian Data Analysis](http://www.indiana.edu/~kruschke/DoingBayesianDataAnalysis/) -- Great book by Kruschke.\n",
    "* [Get PyMC3 alpha](https://github.com/pymc-devs/pymc/tree/pymc3)"
   ]
  },
  {
   "cell_type": "code",
   "execution_count": 20,
   "metadata": {
    "collapsed": false,
    "slideshow": {
     "slide_type": "slide"
    }
   },
   "outputs": [
    {
     "data": {
      "image/jpeg": "[encoded data removed]",
      "text/plain": [
       "<IPython.core.display.Image object>"
      ]
     },
     "execution_count": 20,
     "metadata": {},
     "output_type": "execute_result"
    }
   ],
   "source": [
    "from IPython.display import Image\n",
    "Image(filename='the-most-interesting-man-in-the-world-meme-generator-i-don-t-give-many-talks-but-when-i-do-i-do-q-a-e38222 copy.jpg') "
   ]
  }
 ],
 "metadata": {
  "celltoolbar": "Slideshow",
  "kernelspec": {
   "display_name": "Python 3",
   "language": "python",
   "name": "python3"
  },
  "language_info": {
   "codemirror_mode": {
    "name": "ipython",
    "version": 3
   },
   "file_extension": ".py",
   "mimetype": "text/x-python",
   "name": "python",
   "nbconvert_exporter": "python",
   "pygments_lexer": "ipython3",
   "version": "3.4.3"
  }
 },
 "nbformat": 4,
 "nbformat_minor": 0
}
